{
 "cells": [
  {
   "cell_type": "markdown",
   "metadata": {},
   "source": [
    "# Wines\n",
    "Wine has been produced for thousands of years.Different varieties of grapes and strains of yeasts produce different styles of wine.Wine has long played an important role in religion. Red wine was associated with blood by the ancient Egyptians.Regulations govern the classification and sale of wine in many regions of the world."
   ]
  },
  {
   "cell_type": "code",
   "execution_count": 1,
   "metadata": {},
   "outputs": [],
   "source": [
    "# importing the necessary libraries .\n",
    "import pandas as pd\n",
    "import numpy as np\n",
    "import matplotlib.pyplot as plt\n",
    "import seaborn as sns\n",
    "%matplotlib inline"
   ]
  },
  {
   "cell_type": "code",
   "execution_count": 2,
   "metadata": {},
   "outputs": [],
   "source": [
    "# reading the datasets\n",
    "white_wine = pd.read_csv('winequality-white.csv', sep=';')\n",
    "red_wine = pd.read_csv('winequality-red.csv', sep=';')"
   ]
  },
  {
   "cell_type": "code",
   "execution_count": 3,
   "metadata": {},
   "outputs": [
    {
     "data": {
      "text/html": [
       "<div>\n",
       "<style scoped>\n",
       "    .dataframe tbody tr th:only-of-type {\n",
       "        vertical-align: middle;\n",
       "    }\n",
       "\n",
       "    .dataframe tbody tr th {\n",
       "        vertical-align: top;\n",
       "    }\n",
       "\n",
       "    .dataframe thead th {\n",
       "        text-align: right;\n",
       "    }\n",
       "</style>\n",
       "<table border=\"1\" class=\"dataframe\">\n",
       "  <thead>\n",
       "    <tr style=\"text-align: right;\">\n",
       "      <th></th>\n",
       "      <th>fixed acidity</th>\n",
       "      <th>volatile acidity</th>\n",
       "      <th>citric acid</th>\n",
       "      <th>residual sugar</th>\n",
       "      <th>chlorides</th>\n",
       "      <th>free sulfur dioxide</th>\n",
       "      <th>total sulfur dioxide</th>\n",
       "      <th>density</th>\n",
       "      <th>pH</th>\n",
       "      <th>sulphates</th>\n",
       "      <th>alcohol</th>\n",
       "      <th>quality</th>\n",
       "    </tr>\n",
       "  </thead>\n",
       "  <tbody>\n",
       "    <tr>\n",
       "      <th>0</th>\n",
       "      <td>7.0</td>\n",
       "      <td>0.27</td>\n",
       "      <td>0.36</td>\n",
       "      <td>20.7</td>\n",
       "      <td>0.045</td>\n",
       "      <td>45.0</td>\n",
       "      <td>170.0</td>\n",
       "      <td>1.0010</td>\n",
       "      <td>3.00</td>\n",
       "      <td>0.45</td>\n",
       "      <td>8.8</td>\n",
       "      <td>6</td>\n",
       "    </tr>\n",
       "    <tr>\n",
       "      <th>1</th>\n",
       "      <td>6.3</td>\n",
       "      <td>0.30</td>\n",
       "      <td>0.34</td>\n",
       "      <td>1.6</td>\n",
       "      <td>0.049</td>\n",
       "      <td>14.0</td>\n",
       "      <td>132.0</td>\n",
       "      <td>0.9940</td>\n",
       "      <td>3.30</td>\n",
       "      <td>0.49</td>\n",
       "      <td>9.5</td>\n",
       "      <td>6</td>\n",
       "    </tr>\n",
       "    <tr>\n",
       "      <th>2</th>\n",
       "      <td>8.1</td>\n",
       "      <td>0.28</td>\n",
       "      <td>0.40</td>\n",
       "      <td>6.9</td>\n",
       "      <td>0.050</td>\n",
       "      <td>30.0</td>\n",
       "      <td>97.0</td>\n",
       "      <td>0.9951</td>\n",
       "      <td>3.26</td>\n",
       "      <td>0.44</td>\n",
       "      <td>10.1</td>\n",
       "      <td>6</td>\n",
       "    </tr>\n",
       "    <tr>\n",
       "      <th>3</th>\n",
       "      <td>7.2</td>\n",
       "      <td>0.23</td>\n",
       "      <td>0.32</td>\n",
       "      <td>8.5</td>\n",
       "      <td>0.058</td>\n",
       "      <td>47.0</td>\n",
       "      <td>186.0</td>\n",
       "      <td>0.9956</td>\n",
       "      <td>3.19</td>\n",
       "      <td>0.40</td>\n",
       "      <td>9.9</td>\n",
       "      <td>6</td>\n",
       "    </tr>\n",
       "    <tr>\n",
       "      <th>4</th>\n",
       "      <td>7.2</td>\n",
       "      <td>0.23</td>\n",
       "      <td>0.32</td>\n",
       "      <td>8.5</td>\n",
       "      <td>0.058</td>\n",
       "      <td>47.0</td>\n",
       "      <td>186.0</td>\n",
       "      <td>0.9956</td>\n",
       "      <td>3.19</td>\n",
       "      <td>0.40</td>\n",
       "      <td>9.9</td>\n",
       "      <td>6</td>\n",
       "    </tr>\n",
       "  </tbody>\n",
       "</table>\n",
       "</div>"
      ],
      "text/plain": [
       "   fixed acidity  volatile acidity  citric acid  residual sugar  chlorides  \\\n",
       "0            7.0              0.27         0.36            20.7      0.045   \n",
       "1            6.3              0.30         0.34             1.6      0.049   \n",
       "2            8.1              0.28         0.40             6.9      0.050   \n",
       "3            7.2              0.23         0.32             8.5      0.058   \n",
       "4            7.2              0.23         0.32             8.5      0.058   \n",
       "\n",
       "   free sulfur dioxide  total sulfur dioxide  density    pH  sulphates  \\\n",
       "0                 45.0                 170.0   1.0010  3.00       0.45   \n",
       "1                 14.0                 132.0   0.9940  3.30       0.49   \n",
       "2                 30.0                  97.0   0.9951  3.26       0.44   \n",
       "3                 47.0                 186.0   0.9956  3.19       0.40   \n",
       "4                 47.0                 186.0   0.9956  3.19       0.40   \n",
       "\n",
       "   alcohol  quality  \n",
       "0      8.8        6  \n",
       "1      9.5        6  \n",
       "2     10.1        6  \n",
       "3      9.9        6  \n",
       "4      9.9        6  "
      ]
     },
     "execution_count": 3,
     "metadata": {},
     "output_type": "execute_result"
    }
   ],
   "source": [
    "white_wine.head()"
   ]
  },
  {
   "cell_type": "code",
   "execution_count": 4,
   "metadata": {},
   "outputs": [
    {
     "data": {
      "text/html": [
       "<div>\n",
       "<style scoped>\n",
       "    .dataframe tbody tr th:only-of-type {\n",
       "        vertical-align: middle;\n",
       "    }\n",
       "\n",
       "    .dataframe tbody tr th {\n",
       "        vertical-align: top;\n",
       "    }\n",
       "\n",
       "    .dataframe thead th {\n",
       "        text-align: right;\n",
       "    }\n",
       "</style>\n",
       "<table border=\"1\" class=\"dataframe\">\n",
       "  <thead>\n",
       "    <tr style=\"text-align: right;\">\n",
       "      <th></th>\n",
       "      <th>fixed acidity</th>\n",
       "      <th>volatile acidity</th>\n",
       "      <th>citric acid</th>\n",
       "      <th>residual sugar</th>\n",
       "      <th>chlorides</th>\n",
       "      <th>free sulfur dioxide</th>\n",
       "      <th>total sulfur dioxide</th>\n",
       "      <th>density</th>\n",
       "      <th>pH</th>\n",
       "      <th>sulphates</th>\n",
       "      <th>alcohol</th>\n",
       "      <th>quality</th>\n",
       "    </tr>\n",
       "  </thead>\n",
       "  <tbody>\n",
       "    <tr>\n",
       "      <th>0</th>\n",
       "      <td>7.4</td>\n",
       "      <td>0.70</td>\n",
       "      <td>0.00</td>\n",
       "      <td>1.9</td>\n",
       "      <td>0.076</td>\n",
       "      <td>11.0</td>\n",
       "      <td>34.0</td>\n",
       "      <td>0.9978</td>\n",
       "      <td>3.51</td>\n",
       "      <td>0.56</td>\n",
       "      <td>9.4</td>\n",
       "      <td>5</td>\n",
       "    </tr>\n",
       "    <tr>\n",
       "      <th>1</th>\n",
       "      <td>7.8</td>\n",
       "      <td>0.88</td>\n",
       "      <td>0.00</td>\n",
       "      <td>2.6</td>\n",
       "      <td>0.098</td>\n",
       "      <td>25.0</td>\n",
       "      <td>67.0</td>\n",
       "      <td>0.9968</td>\n",
       "      <td>3.20</td>\n",
       "      <td>0.68</td>\n",
       "      <td>9.8</td>\n",
       "      <td>5</td>\n",
       "    </tr>\n",
       "    <tr>\n",
       "      <th>2</th>\n",
       "      <td>7.8</td>\n",
       "      <td>0.76</td>\n",
       "      <td>0.04</td>\n",
       "      <td>2.3</td>\n",
       "      <td>0.092</td>\n",
       "      <td>15.0</td>\n",
       "      <td>54.0</td>\n",
       "      <td>0.9970</td>\n",
       "      <td>3.26</td>\n",
       "      <td>0.65</td>\n",
       "      <td>9.8</td>\n",
       "      <td>5</td>\n",
       "    </tr>\n",
       "    <tr>\n",
       "      <th>3</th>\n",
       "      <td>11.2</td>\n",
       "      <td>0.28</td>\n",
       "      <td>0.56</td>\n",
       "      <td>1.9</td>\n",
       "      <td>0.075</td>\n",
       "      <td>17.0</td>\n",
       "      <td>60.0</td>\n",
       "      <td>0.9980</td>\n",
       "      <td>3.16</td>\n",
       "      <td>0.58</td>\n",
       "      <td>9.8</td>\n",
       "      <td>6</td>\n",
       "    </tr>\n",
       "    <tr>\n",
       "      <th>4</th>\n",
       "      <td>7.4</td>\n",
       "      <td>0.70</td>\n",
       "      <td>0.00</td>\n",
       "      <td>1.9</td>\n",
       "      <td>0.076</td>\n",
       "      <td>11.0</td>\n",
       "      <td>34.0</td>\n",
       "      <td>0.9978</td>\n",
       "      <td>3.51</td>\n",
       "      <td>0.56</td>\n",
       "      <td>9.4</td>\n",
       "      <td>5</td>\n",
       "    </tr>\n",
       "  </tbody>\n",
       "</table>\n",
       "</div>"
      ],
      "text/plain": [
       "   fixed acidity  volatile acidity  citric acid  residual sugar  chlorides  \\\n",
       "0            7.4              0.70         0.00             1.9      0.076   \n",
       "1            7.8              0.88         0.00             2.6      0.098   \n",
       "2            7.8              0.76         0.04             2.3      0.092   \n",
       "3           11.2              0.28         0.56             1.9      0.075   \n",
       "4            7.4              0.70         0.00             1.9      0.076   \n",
       "\n",
       "   free sulfur dioxide  total sulfur dioxide  density    pH  sulphates  \\\n",
       "0                 11.0                  34.0   0.9978  3.51       0.56   \n",
       "1                 25.0                  67.0   0.9968  3.20       0.68   \n",
       "2                 15.0                  54.0   0.9970  3.26       0.65   \n",
       "3                 17.0                  60.0   0.9980  3.16       0.58   \n",
       "4                 11.0                  34.0   0.9978  3.51       0.56   \n",
       "\n",
       "   alcohol  quality  \n",
       "0      9.4        5  \n",
       "1      9.8        5  \n",
       "2      9.8        5  \n",
       "3      9.8        6  \n",
       "4      9.4        5  "
      ]
     },
     "execution_count": 4,
     "metadata": {},
     "output_type": "execute_result"
    }
   ],
   "source": [
    "red_wine.head()"
   ]
  },
  {
   "cell_type": "code",
   "execution_count": 5,
   "metadata": {},
   "outputs": [
    {
     "data": {
      "text/plain": [
       "Index(['fixed acidity', 'volatile acidity', 'citric acid', 'residual sugar',\n",
       "       'chlorides', 'free sulfur dioxide', 'total sulfur dioxide', 'density',\n",
       "       'pH', 'sulphates', 'alcohol', 'quality'],\n",
       "      dtype='object')"
      ]
     },
     "execution_count": 5,
     "metadata": {},
     "output_type": "execute_result"
    }
   ],
   "source": [
    "white_wine.columns"
   ]
  },
  {
   "cell_type": "code",
   "execution_count": 6,
   "metadata": {},
   "outputs": [
    {
     "data": {
      "text/plain": [
       "(4898, 12)"
      ]
     },
     "execution_count": 6,
     "metadata": {},
     "output_type": "execute_result"
    }
   ],
   "source": [
    "white_wine.shape"
   ]
  },
  {
   "cell_type": "code",
   "execution_count": 7,
   "metadata": {},
   "outputs": [
    {
     "data": {
      "text/plain": [
       "Index(['fixed acidity', 'volatile acidity', 'citric acid', 'residual sugar',\n",
       "       'chlorides', 'free sulfur dioxide', 'total sulfur dioxide', 'density',\n",
       "       'pH', 'sulphates', 'alcohol', 'quality'],\n",
       "      dtype='object')"
      ]
     },
     "execution_count": 7,
     "metadata": {},
     "output_type": "execute_result"
    }
   ],
   "source": [
    "red_wine.columns"
   ]
  },
  {
   "cell_type": "code",
   "execution_count": 8,
   "metadata": {},
   "outputs": [
    {
     "data": {
      "text/plain": [
       "(1599, 12)"
      ]
     },
     "execution_count": 8,
     "metadata": {},
     "output_type": "execute_result"
    }
   ],
   "source": [
    "red_wine.shape"
   ]
  },
  {
   "cell_type": "markdown",
   "metadata": {},
   "source": [
    "As you can see the columns of both the datasets are same so for accurate analysis we should merge the two datsets.\n"
   ]
  },
  {
   "cell_type": "code",
   "execution_count": 9,
   "metadata": {},
   "outputs": [],
   "source": [
    "# First we should set the wines type and then merge.\n",
    "red_wine['wine_type'] = 'red'\n",
    "white_wine['wine_type'] = 'white'"
   ]
  },
  {
   "cell_type": "code",
   "execution_count": 10,
   "metadata": {},
   "outputs": [],
   "source": [
    "wines = pd.concat([white_wine,red_wine])"
   ]
  },
  {
   "cell_type": "code",
   "execution_count": 11,
   "metadata": {},
   "outputs": [
    {
     "data": {
      "text/plain": [
       "Index(['fixed acidity', 'volatile acidity', 'citric acid', 'residual sugar',\n",
       "       'chlorides', 'free sulfur dioxide', 'total sulfur dioxide', 'density',\n",
       "       'pH', 'sulphates', 'alcohol', 'quality', 'wine_type'],\n",
       "      dtype='object')"
      ]
     },
     "execution_count": 11,
     "metadata": {},
     "output_type": "execute_result"
    }
   ],
   "source": [
    "wines.columns"
   ]
  },
  {
   "cell_type": "code",
   "execution_count": 12,
   "metadata": {},
   "outputs": [
    {
     "data": {
      "text/plain": [
       "(6497, 13)"
      ]
     },
     "execution_count": 12,
     "metadata": {},
     "output_type": "execute_result"
    }
   ],
   "source": [
    "wines.shape"
   ]
  },
  {
   "cell_type": "code",
   "execution_count": 13,
   "metadata": {},
   "outputs": [
    {
     "data": {
      "text/plain": [
       "Index(['fixed acidity', 'volatile acidity', 'citric acid', 'residual sugar',\n",
       "       'chlorides', 'free sulfur dioxide', 'total sulfur dioxide', 'density',\n",
       "       'pH', 'sulphates', 'alcohol', 'quality', 'wine_type'],\n",
       "      dtype='object')"
      ]
     },
     "execution_count": 13,
     "metadata": {},
     "output_type": "execute_result"
    }
   ],
   "source": [
    "wines.columns\n"
   ]
  },
  {
   "cell_type": "code",
   "execution_count": 14,
   "metadata": {},
   "outputs": [
    {
     "data": {
      "text/plain": [
       "array(['white', 'red'], dtype=object)"
      ]
     },
     "execution_count": 14,
     "metadata": {},
     "output_type": "execute_result"
    }
   ],
   "source": [
    "wines.wine_type.unique()"
   ]
  },
  {
   "cell_type": "markdown",
   "metadata": {},
   "source": [
    "This is the Labels column which we will use for predictive analysis (classification)."
   ]
  },
  {
   "cell_type": "code",
   "execution_count": 15,
   "metadata": {},
   "outputs": [],
   "source": [
    "# Categorising the quality columns into low , medium and high .\n",
    "wines['quality_label'] = wines['quality'].apply(lambda value: 'low' \n",
    "                                                          if value <= 5 else 'medium' \n",
    "                                                              if value <= 7 else 'high')\n"
   ]
  },
  {
   "cell_type": "code",
   "execution_count": 16,
   "metadata": {},
   "outputs": [
    {
     "data": {
      "text/html": [
       "<div>\n",
       "<style scoped>\n",
       "    .dataframe tbody tr th:only-of-type {\n",
       "        vertical-align: middle;\n",
       "    }\n",
       "\n",
       "    .dataframe tbody tr th {\n",
       "        vertical-align: top;\n",
       "    }\n",
       "\n",
       "    .dataframe thead th {\n",
       "        text-align: right;\n",
       "    }\n",
       "</style>\n",
       "<table border=\"1\" class=\"dataframe\">\n",
       "  <thead>\n",
       "    <tr style=\"text-align: right;\">\n",
       "      <th></th>\n",
       "      <th>fixed acidity</th>\n",
       "      <th>volatile acidity</th>\n",
       "      <th>citric acid</th>\n",
       "      <th>residual sugar</th>\n",
       "      <th>chlorides</th>\n",
       "      <th>free sulfur dioxide</th>\n",
       "      <th>total sulfur dioxide</th>\n",
       "      <th>density</th>\n",
       "      <th>pH</th>\n",
       "      <th>sulphates</th>\n",
       "      <th>alcohol</th>\n",
       "      <th>quality</th>\n",
       "      <th>wine_type</th>\n",
       "      <th>quality_label</th>\n",
       "    </tr>\n",
       "  </thead>\n",
       "  <tbody>\n",
       "    <tr>\n",
       "      <th>1594</th>\n",
       "      <td>6.2</td>\n",
       "      <td>0.600</td>\n",
       "      <td>0.08</td>\n",
       "      <td>2.0</td>\n",
       "      <td>0.090</td>\n",
       "      <td>32.0</td>\n",
       "      <td>44.0</td>\n",
       "      <td>0.99490</td>\n",
       "      <td>3.45</td>\n",
       "      <td>0.58</td>\n",
       "      <td>10.5</td>\n",
       "      <td>5</td>\n",
       "      <td>red</td>\n",
       "      <td>low</td>\n",
       "    </tr>\n",
       "    <tr>\n",
       "      <th>1595</th>\n",
       "      <td>5.9</td>\n",
       "      <td>0.550</td>\n",
       "      <td>0.10</td>\n",
       "      <td>2.2</td>\n",
       "      <td>0.062</td>\n",
       "      <td>39.0</td>\n",
       "      <td>51.0</td>\n",
       "      <td>0.99512</td>\n",
       "      <td>3.52</td>\n",
       "      <td>0.76</td>\n",
       "      <td>11.2</td>\n",
       "      <td>6</td>\n",
       "      <td>red</td>\n",
       "      <td>medium</td>\n",
       "    </tr>\n",
       "    <tr>\n",
       "      <th>1596</th>\n",
       "      <td>6.3</td>\n",
       "      <td>0.510</td>\n",
       "      <td>0.13</td>\n",
       "      <td>2.3</td>\n",
       "      <td>0.076</td>\n",
       "      <td>29.0</td>\n",
       "      <td>40.0</td>\n",
       "      <td>0.99574</td>\n",
       "      <td>3.42</td>\n",
       "      <td>0.75</td>\n",
       "      <td>11.0</td>\n",
       "      <td>6</td>\n",
       "      <td>red</td>\n",
       "      <td>medium</td>\n",
       "    </tr>\n",
       "    <tr>\n",
       "      <th>1597</th>\n",
       "      <td>5.9</td>\n",
       "      <td>0.645</td>\n",
       "      <td>0.12</td>\n",
       "      <td>2.0</td>\n",
       "      <td>0.075</td>\n",
       "      <td>32.0</td>\n",
       "      <td>44.0</td>\n",
       "      <td>0.99547</td>\n",
       "      <td>3.57</td>\n",
       "      <td>0.71</td>\n",
       "      <td>10.2</td>\n",
       "      <td>5</td>\n",
       "      <td>red</td>\n",
       "      <td>low</td>\n",
       "    </tr>\n",
       "    <tr>\n",
       "      <th>1598</th>\n",
       "      <td>6.0</td>\n",
       "      <td>0.310</td>\n",
       "      <td>0.47</td>\n",
       "      <td>3.6</td>\n",
       "      <td>0.067</td>\n",
       "      <td>18.0</td>\n",
       "      <td>42.0</td>\n",
       "      <td>0.99549</td>\n",
       "      <td>3.39</td>\n",
       "      <td>0.66</td>\n",
       "      <td>11.0</td>\n",
       "      <td>6</td>\n",
       "      <td>red</td>\n",
       "      <td>medium</td>\n",
       "    </tr>\n",
       "  </tbody>\n",
       "</table>\n",
       "</div>"
      ],
      "text/plain": [
       "      fixed acidity  volatile acidity  citric acid  residual sugar  chlorides  \\\n",
       "1594            6.2             0.600         0.08             2.0      0.090   \n",
       "1595            5.9             0.550         0.10             2.2      0.062   \n",
       "1596            6.3             0.510         0.13             2.3      0.076   \n",
       "1597            5.9             0.645         0.12             2.0      0.075   \n",
       "1598            6.0             0.310         0.47             3.6      0.067   \n",
       "\n",
       "      free sulfur dioxide  total sulfur dioxide  density    pH  sulphates  \\\n",
       "1594                 32.0                  44.0  0.99490  3.45       0.58   \n",
       "1595                 39.0                  51.0  0.99512  3.52       0.76   \n",
       "1596                 29.0                  40.0  0.99574  3.42       0.75   \n",
       "1597                 32.0                  44.0  0.99547  3.57       0.71   \n",
       "1598                 18.0                  42.0  0.99549  3.39       0.66   \n",
       "\n",
       "      alcohol  quality wine_type quality_label  \n",
       "1594     10.5        5       red           low  \n",
       "1595     11.2        6       red        medium  \n",
       "1596     11.0        6       red        medium  \n",
       "1597     10.2        5       red           low  \n",
       "1598     11.0        6       red        medium  "
      ]
     },
     "execution_count": 16,
     "metadata": {},
     "output_type": "execute_result"
    }
   ],
   "source": [
    "wines.tail()"
   ]
  },
  {
   "cell_type": "code",
   "execution_count": 17,
   "metadata": {},
   "outputs": [],
   "source": [
    "# changing the quality_label column in categorial variable using pandas.\n",
    "wines['quality_label'] = pd.Categorical(wines['quality_label'], \n",
    "                                             categories=['low', 'medium', 'high'])"
   ]
  },
  {
   "cell_type": "code",
   "execution_count": 18,
   "metadata": {},
   "outputs": [],
   "source": [
    "# Reshuffling the dataset for a mixture.\n",
    "wines = wines.sample(frac=1, random_state=98).reset_index(drop=True)"
   ]
  },
  {
   "cell_type": "code",
   "execution_count": 19,
   "metadata": {},
   "outputs": [
    {
     "data": {
      "text/html": [
       "<div>\n",
       "<style scoped>\n",
       "    .dataframe tbody tr th:only-of-type {\n",
       "        vertical-align: middle;\n",
       "    }\n",
       "\n",
       "    .dataframe tbody tr th {\n",
       "        vertical-align: top;\n",
       "    }\n",
       "\n",
       "    .dataframe thead th {\n",
       "        text-align: right;\n",
       "    }\n",
       "</style>\n",
       "<table border=\"1\" class=\"dataframe\">\n",
       "  <thead>\n",
       "    <tr style=\"text-align: right;\">\n",
       "      <th></th>\n",
       "      <th>fixed acidity</th>\n",
       "      <th>volatile acidity</th>\n",
       "      <th>citric acid</th>\n",
       "      <th>residual sugar</th>\n",
       "      <th>chlorides</th>\n",
       "      <th>free sulfur dioxide</th>\n",
       "      <th>total sulfur dioxide</th>\n",
       "      <th>density</th>\n",
       "      <th>pH</th>\n",
       "      <th>sulphates</th>\n",
       "      <th>alcohol</th>\n",
       "      <th>quality</th>\n",
       "      <th>wine_type</th>\n",
       "      <th>quality_label</th>\n",
       "    </tr>\n",
       "  </thead>\n",
       "  <tbody>\n",
       "    <tr>\n",
       "      <th>0</th>\n",
       "      <td>7.3</td>\n",
       "      <td>0.365</td>\n",
       "      <td>0.49</td>\n",
       "      <td>2.5</td>\n",
       "      <td>0.088</td>\n",
       "      <td>39.0</td>\n",
       "      <td>106.0</td>\n",
       "      <td>0.99660</td>\n",
       "      <td>3.36</td>\n",
       "      <td>0.78</td>\n",
       "      <td>11.0</td>\n",
       "      <td>5</td>\n",
       "      <td>red</td>\n",
       "      <td>low</td>\n",
       "    </tr>\n",
       "    <tr>\n",
       "      <th>1</th>\n",
       "      <td>7.2</td>\n",
       "      <td>0.160</td>\n",
       "      <td>0.29</td>\n",
       "      <td>1.0</td>\n",
       "      <td>0.031</td>\n",
       "      <td>40.0</td>\n",
       "      <td>123.0</td>\n",
       "      <td>0.98958</td>\n",
       "      <td>3.12</td>\n",
       "      <td>0.40</td>\n",
       "      <td>12.1</td>\n",
       "      <td>7</td>\n",
       "      <td>white</td>\n",
       "      <td>medium</td>\n",
       "    </tr>\n",
       "    <tr>\n",
       "      <th>2</th>\n",
       "      <td>6.5</td>\n",
       "      <td>0.220</td>\n",
       "      <td>0.25</td>\n",
       "      <td>17.1</td>\n",
       "      <td>0.050</td>\n",
       "      <td>44.0</td>\n",
       "      <td>138.0</td>\n",
       "      <td>1.00010</td>\n",
       "      <td>3.30</td>\n",
       "      <td>0.37</td>\n",
       "      <td>8.8</td>\n",
       "      <td>5</td>\n",
       "      <td>white</td>\n",
       "      <td>low</td>\n",
       "    </tr>\n",
       "    <tr>\n",
       "      <th>3</th>\n",
       "      <td>5.7</td>\n",
       "      <td>0.265</td>\n",
       "      <td>0.28</td>\n",
       "      <td>6.9</td>\n",
       "      <td>0.036</td>\n",
       "      <td>46.0</td>\n",
       "      <td>150.0</td>\n",
       "      <td>0.99299</td>\n",
       "      <td>3.36</td>\n",
       "      <td>0.44</td>\n",
       "      <td>10.8</td>\n",
       "      <td>7</td>\n",
       "      <td>white</td>\n",
       "      <td>medium</td>\n",
       "    </tr>\n",
       "    <tr>\n",
       "      <th>4</th>\n",
       "      <td>6.3</td>\n",
       "      <td>0.230</td>\n",
       "      <td>0.21</td>\n",
       "      <td>5.1</td>\n",
       "      <td>0.035</td>\n",
       "      <td>29.0</td>\n",
       "      <td>142.0</td>\n",
       "      <td>0.99420</td>\n",
       "      <td>3.36</td>\n",
       "      <td>0.33</td>\n",
       "      <td>10.1</td>\n",
       "      <td>7</td>\n",
       "      <td>white</td>\n",
       "      <td>medium</td>\n",
       "    </tr>\n",
       "  </tbody>\n",
       "</table>\n",
       "</div>"
      ],
      "text/plain": [
       "   fixed acidity  volatile acidity  citric acid  residual sugar  chlorides  \\\n",
       "0            7.3             0.365         0.49             2.5      0.088   \n",
       "1            7.2             0.160         0.29             1.0      0.031   \n",
       "2            6.5             0.220         0.25            17.1      0.050   \n",
       "3            5.7             0.265         0.28             6.9      0.036   \n",
       "4            6.3             0.230         0.21             5.1      0.035   \n",
       "\n",
       "   free sulfur dioxide  total sulfur dioxide  density    pH  sulphates  \\\n",
       "0                 39.0                 106.0  0.99660  3.36       0.78   \n",
       "1                 40.0                 123.0  0.98958  3.12       0.40   \n",
       "2                 44.0                 138.0  1.00010  3.30       0.37   \n",
       "3                 46.0                 150.0  0.99299  3.36       0.44   \n",
       "4                 29.0                 142.0  0.99420  3.36       0.33   \n",
       "\n",
       "   alcohol  quality wine_type quality_label  \n",
       "0     11.0        5       red           low  \n",
       "1     12.1        7     white        medium  \n",
       "2      8.8        5     white           low  \n",
       "3     10.8        7     white        medium  \n",
       "4     10.1        7     white        medium  "
      ]
     },
     "execution_count": 19,
     "metadata": {},
     "output_type": "execute_result"
    }
   ],
   "source": [
    "wines.head()"
   ]
  },
  {
   "cell_type": "markdown",
   "metadata": {},
   "source": [
    "We can see that we got a random shuffled dataset for processing.\n"
   ]
  },
  {
   "cell_type": "code",
   "execution_count": 20,
   "metadata": {},
   "outputs": [
    {
     "name": "stdout",
     "output_type": "stream",
     "text": [
      "<class 'pandas.core.frame.DataFrame'>\n",
      "RangeIndex: 6497 entries, 0 to 6496\n",
      "Data columns (total 14 columns):\n",
      "fixed acidity           6497 non-null float64\n",
      "volatile acidity        6497 non-null float64\n",
      "citric acid             6497 non-null float64\n",
      "residual sugar          6497 non-null float64\n",
      "chlorides               6497 non-null float64\n",
      "free sulfur dioxide     6497 non-null float64\n",
      "total sulfur dioxide    6497 non-null float64\n",
      "density                 6497 non-null float64\n",
      "pH                      6497 non-null float64\n",
      "sulphates               6497 non-null float64\n",
      "alcohol                 6497 non-null float64\n",
      "quality                 6497 non-null int64\n",
      "wine_type               6497 non-null object\n",
      "quality_label           6497 non-null category\n",
      "dtypes: category(1), float64(11), int64(1), object(1)\n",
      "memory usage: 666.4+ KB\n"
     ]
    }
   ],
   "source": [
    "# dataset information.\n",
    "wines.info()"
   ]
  },
  {
   "cell_type": "code",
   "execution_count": 21,
   "metadata": {},
   "outputs": [
    {
     "data": {
      "text/html": [
       "<div>\n",
       "<style scoped>\n",
       "    .dataframe tbody tr th:only-of-type {\n",
       "        vertical-align: middle;\n",
       "    }\n",
       "\n",
       "    .dataframe tbody tr th {\n",
       "        vertical-align: top;\n",
       "    }\n",
       "\n",
       "    .dataframe thead th {\n",
       "        text-align: right;\n",
       "    }\n",
       "</style>\n",
       "<table border=\"1\" class=\"dataframe\">\n",
       "  <thead>\n",
       "    <tr style=\"text-align: right;\">\n",
       "      <th></th>\n",
       "      <th>fixed acidity</th>\n",
       "      <th>volatile acidity</th>\n",
       "      <th>citric acid</th>\n",
       "      <th>residual sugar</th>\n",
       "      <th>chlorides</th>\n",
       "      <th>free sulfur dioxide</th>\n",
       "      <th>total sulfur dioxide</th>\n",
       "      <th>density</th>\n",
       "      <th>pH</th>\n",
       "      <th>sulphates</th>\n",
       "      <th>alcohol</th>\n",
       "      <th>quality</th>\n",
       "    </tr>\n",
       "  </thead>\n",
       "  <tbody>\n",
       "    <tr>\n",
       "      <th>count</th>\n",
       "      <td>6497.000000</td>\n",
       "      <td>6497.000000</td>\n",
       "      <td>6497.000000</td>\n",
       "      <td>6497.000000</td>\n",
       "      <td>6497.000000</td>\n",
       "      <td>6497.000000</td>\n",
       "      <td>6497.000000</td>\n",
       "      <td>6497.000000</td>\n",
       "      <td>6497.000000</td>\n",
       "      <td>6497.000000</td>\n",
       "      <td>6497.000000</td>\n",
       "      <td>6497.000000</td>\n",
       "    </tr>\n",
       "    <tr>\n",
       "      <th>mean</th>\n",
       "      <td>7.215307</td>\n",
       "      <td>0.339666</td>\n",
       "      <td>0.318633</td>\n",
       "      <td>5.443235</td>\n",
       "      <td>0.056034</td>\n",
       "      <td>30.525319</td>\n",
       "      <td>115.744574</td>\n",
       "      <td>0.994697</td>\n",
       "      <td>3.218501</td>\n",
       "      <td>0.531268</td>\n",
       "      <td>10.491801</td>\n",
       "      <td>5.818378</td>\n",
       "    </tr>\n",
       "    <tr>\n",
       "      <th>std</th>\n",
       "      <td>1.296434</td>\n",
       "      <td>0.164636</td>\n",
       "      <td>0.145318</td>\n",
       "      <td>4.757804</td>\n",
       "      <td>0.035034</td>\n",
       "      <td>17.749400</td>\n",
       "      <td>56.521855</td>\n",
       "      <td>0.002999</td>\n",
       "      <td>0.160787</td>\n",
       "      <td>0.148806</td>\n",
       "      <td>1.192712</td>\n",
       "      <td>0.873255</td>\n",
       "    </tr>\n",
       "    <tr>\n",
       "      <th>min</th>\n",
       "      <td>3.800000</td>\n",
       "      <td>0.080000</td>\n",
       "      <td>0.000000</td>\n",
       "      <td>0.600000</td>\n",
       "      <td>0.009000</td>\n",
       "      <td>1.000000</td>\n",
       "      <td>6.000000</td>\n",
       "      <td>0.987110</td>\n",
       "      <td>2.720000</td>\n",
       "      <td>0.220000</td>\n",
       "      <td>8.000000</td>\n",
       "      <td>3.000000</td>\n",
       "    </tr>\n",
       "    <tr>\n",
       "      <th>25%</th>\n",
       "      <td>6.400000</td>\n",
       "      <td>0.230000</td>\n",
       "      <td>0.250000</td>\n",
       "      <td>1.800000</td>\n",
       "      <td>0.038000</td>\n",
       "      <td>17.000000</td>\n",
       "      <td>77.000000</td>\n",
       "      <td>0.992340</td>\n",
       "      <td>3.110000</td>\n",
       "      <td>0.430000</td>\n",
       "      <td>9.500000</td>\n",
       "      <td>5.000000</td>\n",
       "    </tr>\n",
       "    <tr>\n",
       "      <th>50%</th>\n",
       "      <td>7.000000</td>\n",
       "      <td>0.290000</td>\n",
       "      <td>0.310000</td>\n",
       "      <td>3.000000</td>\n",
       "      <td>0.047000</td>\n",
       "      <td>29.000000</td>\n",
       "      <td>118.000000</td>\n",
       "      <td>0.994890</td>\n",
       "      <td>3.210000</td>\n",
       "      <td>0.510000</td>\n",
       "      <td>10.300000</td>\n",
       "      <td>6.000000</td>\n",
       "    </tr>\n",
       "    <tr>\n",
       "      <th>75%</th>\n",
       "      <td>7.700000</td>\n",
       "      <td>0.400000</td>\n",
       "      <td>0.390000</td>\n",
       "      <td>8.100000</td>\n",
       "      <td>0.065000</td>\n",
       "      <td>41.000000</td>\n",
       "      <td>156.000000</td>\n",
       "      <td>0.996990</td>\n",
       "      <td>3.320000</td>\n",
       "      <td>0.600000</td>\n",
       "      <td>11.300000</td>\n",
       "      <td>6.000000</td>\n",
       "    </tr>\n",
       "    <tr>\n",
       "      <th>max</th>\n",
       "      <td>15.900000</td>\n",
       "      <td>1.580000</td>\n",
       "      <td>1.660000</td>\n",
       "      <td>65.800000</td>\n",
       "      <td>0.611000</td>\n",
       "      <td>289.000000</td>\n",
       "      <td>440.000000</td>\n",
       "      <td>1.038980</td>\n",
       "      <td>4.010000</td>\n",
       "      <td>2.000000</td>\n",
       "      <td>14.900000</td>\n",
       "      <td>9.000000</td>\n",
       "    </tr>\n",
       "  </tbody>\n",
       "</table>\n",
       "</div>"
      ],
      "text/plain": [
       "       fixed acidity  volatile acidity  citric acid  residual sugar  \\\n",
       "count    6497.000000       6497.000000  6497.000000     6497.000000   \n",
       "mean        7.215307          0.339666     0.318633        5.443235   \n",
       "std         1.296434          0.164636     0.145318        4.757804   \n",
       "min         3.800000          0.080000     0.000000        0.600000   \n",
       "25%         6.400000          0.230000     0.250000        1.800000   \n",
       "50%         7.000000          0.290000     0.310000        3.000000   \n",
       "75%         7.700000          0.400000     0.390000        8.100000   \n",
       "max        15.900000          1.580000     1.660000       65.800000   \n",
       "\n",
       "         chlorides  free sulfur dioxide  total sulfur dioxide      density  \\\n",
       "count  6497.000000          6497.000000           6497.000000  6497.000000   \n",
       "mean      0.056034            30.525319            115.744574     0.994697   \n",
       "std       0.035034            17.749400             56.521855     0.002999   \n",
       "min       0.009000             1.000000              6.000000     0.987110   \n",
       "25%       0.038000            17.000000             77.000000     0.992340   \n",
       "50%       0.047000            29.000000            118.000000     0.994890   \n",
       "75%       0.065000            41.000000            156.000000     0.996990   \n",
       "max       0.611000           289.000000            440.000000     1.038980   \n",
       "\n",
       "                pH    sulphates      alcohol      quality  \n",
       "count  6497.000000  6497.000000  6497.000000  6497.000000  \n",
       "mean      3.218501     0.531268    10.491801     5.818378  \n",
       "std       0.160787     0.148806     1.192712     0.873255  \n",
       "min       2.720000     0.220000     8.000000     3.000000  \n",
       "25%       3.110000     0.430000     9.500000     5.000000  \n",
       "50%       3.210000     0.510000    10.300000     6.000000  \n",
       "75%       3.320000     0.600000    11.300000     6.000000  \n",
       "max       4.010000     2.000000    14.900000     9.000000  "
      ]
     },
     "execution_count": 21,
     "metadata": {},
     "output_type": "execute_result"
    }
   ],
   "source": [
    "wines.describe()"
   ]
  },
  {
   "cell_type": "markdown",
   "metadata": {},
   "source": [
    "White wine is made from white grapes with no skins or seeds. The color is usually straw-yellow, yellow-green, or yellow-gold. Most white wines have a light and fruity flavor as compared to richer red wines.\n",
    "Understanding Wine Attributes and Properties\n",
    "\n",
    "    .fixed acidity: Acids are one of the fundamental properties of wine and contribute greatly to the taste of the wine. Reducing acids significantly might lead to wines tasting flat. Fixed acids include tartaric, malic, citric, and succinic acids which are found in grapes (except succinic). This variable is usually expressed in 𝑔(𝑡𝑎𝑟𝑡𝑎𝑟𝑖𝑐𝑎𝑐𝑖𝑑)𝑑𝑚3\n",
    "\n",
    "    in the dataset.\n",
    "\n",
    "    .volatile acidity: These acids are to be distilled out from the wine before completing the production process. It is primarily constituted of acetic acid though other acids like lactic, formic and butyric acids might also be present. Excess of volatile acids are undesirable and lead to unpleasant flavor. In the US, the legal limits of volatile acidity are 1.2 g/L for red table wine and 1.1 g/L for white table wine. The volatile acidity is expressed in 𝑔(𝑎𝑐𝑒𝑡𝑖𝑐𝑎𝑐𝑖𝑑)𝑑𝑚3\n",
    "\n",
    "    in the dataset.\n",
    "\n",
    "    .citric acid: This is one of the fixed acids which gives a wine its freshness. Usually most of it is consumed during the fermentation process and sometimes it is added separately to give the wine more freshness. It's usually expressed in 𝑔𝑑𝑚3\n",
    "\n",
    "    in the dataset.\n",
    "\n",
    "    .residual sugar: This typically refers to the natural sugar from grapes which remains after the fermentation process stops, or is stopped. It's usually expressed in 𝑔𝑑𝑚3\n",
    "\n",
    "    in the dataset.\n",
    "\n",
    "    .chlorides: This is usually a major contributor to saltiness in wine. It's usually expressed in 𝑔(𝑠𝑜𝑑𝑖𝑢𝑚𝑐ℎ𝑙𝑜𝑟𝑖𝑑𝑒)𝑑𝑚3\n",
    "\n",
    "    in the dataset.\n",
    "\n",
    "    .free sulfur dioxide: This is the part of the sulphur dioxide that when added to a wine is said to be free after the remaining part binds. Winemakers will always try to get the highest proportion of free sulphur to bind. They are also known as sulfites and too much of it is undesirable and gives a pungent odour. This variable is expressed in 𝑚𝑔𝑑𝑚3\n",
    "\n",
    "    in the dataset.\n",
    "\n",
    "    .total sulfur dioxide: This is the sum total of the bound and the free sulfur dioxide (𝑆𝑂2). Here, it's expressed in 𝑚𝑔𝑑𝑚3\n",
    "\n",
    "    . This is mainly added to kill harmful bacteria and preserve quality and freshness. There are usually legal limits for sulfur levels in wines and excess of it can even kill good yeast and give out undesirable odour.\n",
    "\n",
    "    density: This can be represented as a comparison of the weight of a specific volume of wine to an equivalent volume of water. It is generally used as a measure of the conversion of sugar to alcohol. Here, it's expressed in 𝑔𝑐𝑚3\n",
    "\n",
    "    .\n",
    "\n",
    "    pH: Also known as the potential of hydrogen, this is a numeric scale to specify the acidity or basicity the wine. Fixed acidity contributes the most towards the pH of wines. You might know, solutions with a pH less than 7 are acidic, while solutions with a pH greater than 7 are basic. With a pH of 7, pure water is neutral. Most wines have a pH between 2.9 and 3.9 and are therefore acidic.\n",
    "\n",
    "    sulphates: These are mineral salts containing sulfur. Sulphates are to wine as gluten is to food. They are a regular part of the winemaking around the world and are considered essential. They are connected to the fermentation process and affects the wine aroma and flavor. Here, it's expressed in 𝑔(𝑝𝑜𝑡𝑎𝑠𝑠𝑖𝑢𝑚𝑠𝑢𝑙𝑝ℎ𝑎𝑡𝑒)𝑑𝑚3\n",
    "\n",
    "    in the dataset.\n",
    "\n",
    "    alcohol: Wine is an alcoholic beverage. Alcohol is formed as a result of yeast converting sugar during the fermentation process. The percentage of alcohol can vary from wine to wine. Hence it is not a surprise for this attribute to be a part of this dataset. It's usually measured in % vol or alcohol by volume (ABV).\n",
    "\n",
    "    quality: Wine experts graded the wine quality between 0 (very bad) and 10 (very excellent). The eventual quality score is the median of at least three evaluations made by the same wine experts.\n",
    "\n",
    "    wine_type: Since we originally had two datasets for red and white wine, we introduced this attribute in the final merged dataset which indicates the type of wine for each data point. A wine can either be a 'red' or a 'white' wine. One of the predictive models we will build in this chapter would be such that we can predict the type of wine by looking at other wine attributes.\n",
    "\n",
    "    quality_label: This is a derived attribute from the quality attribute. We bucket or group wine quality scores into three qualitative buckets namely low, medium and high. Wines with a quality score of 3, 4 & 5 are low quality, scores of 6 & 7 are medium quality and scores of 8 & 9 are high quality wines. We will also build another model in this chapter to predict this wine quality label based on other wine attributes.\n",
    "\n"
   ]
  },
  {
   "cell_type": "markdown",
   "metadata": {},
   "source": [
    "# Descriptive Analytics"
   ]
  },
  {
   "cell_type": "markdown",
   "metadata": {},
   "source": [
    "Descriptive statistics are brief descriptive coefficients that summarize a given data set, which can be either a representation of the entire or a sample of a population. Descriptive statistics are broken down into measures of central tendency and measures of variability (spread). Measures of central tendency include the mean, median, and mode, while measures of variability include the standard deviation, variance, the minimum and maximum variables, and the kurtosis and skewness."
   ]
  },
  {
   "cell_type": "code",
   "execution_count": 22,
   "metadata": {},
   "outputs": [
    {
     "data": {
      "text/html": [
       "<div>\n",
       "<style scoped>\n",
       "    .dataframe tbody tr th:only-of-type {\n",
       "        vertical-align: middle;\n",
       "    }\n",
       "\n",
       "    .dataframe tbody tr th {\n",
       "        vertical-align: top;\n",
       "    }\n",
       "\n",
       "    .dataframe thead tr th {\n",
       "        text-align: left;\n",
       "    }\n",
       "</style>\n",
       "<table border=\"1\" class=\"dataframe\">\n",
       "  <thead>\n",
       "    <tr>\n",
       "      <th></th>\n",
       "      <th colspan=\"6\" halign=\"left\">Red Wine Statistics</th>\n",
       "      <th colspan=\"6\" halign=\"left\">White Wine Statistics</th>\n",
       "    </tr>\n",
       "    <tr>\n",
       "      <th></th>\n",
       "      <th>residual sugar</th>\n",
       "      <th>total sulfur dioxide</th>\n",
       "      <th>sulphates</th>\n",
       "      <th>alcohol</th>\n",
       "      <th>volatile acidity</th>\n",
       "      <th>quality</th>\n",
       "      <th>residual sugar</th>\n",
       "      <th>total sulfur dioxide</th>\n",
       "      <th>sulphates</th>\n",
       "      <th>alcohol</th>\n",
       "      <th>volatile acidity</th>\n",
       "      <th>quality</th>\n",
       "    </tr>\n",
       "  </thead>\n",
       "  <tbody>\n",
       "    <tr>\n",
       "      <th>count</th>\n",
       "      <td>1599.00</td>\n",
       "      <td>1599.00</td>\n",
       "      <td>1599.00</td>\n",
       "      <td>1599.00</td>\n",
       "      <td>1599.00</td>\n",
       "      <td>1599.00</td>\n",
       "      <td>4898.00</td>\n",
       "      <td>4898.00</td>\n",
       "      <td>4898.00</td>\n",
       "      <td>4898.00</td>\n",
       "      <td>4898.00</td>\n",
       "      <td>4898.00</td>\n",
       "    </tr>\n",
       "    <tr>\n",
       "      <th>mean</th>\n",
       "      <td>2.54</td>\n",
       "      <td>46.47</td>\n",
       "      <td>0.66</td>\n",
       "      <td>10.42</td>\n",
       "      <td>0.53</td>\n",
       "      <td>5.64</td>\n",
       "      <td>6.39</td>\n",
       "      <td>138.36</td>\n",
       "      <td>0.49</td>\n",
       "      <td>10.51</td>\n",
       "      <td>0.28</td>\n",
       "      <td>5.88</td>\n",
       "    </tr>\n",
       "    <tr>\n",
       "      <th>std</th>\n",
       "      <td>1.41</td>\n",
       "      <td>32.90</td>\n",
       "      <td>0.17</td>\n",
       "      <td>1.07</td>\n",
       "      <td>0.18</td>\n",
       "      <td>0.81</td>\n",
       "      <td>5.07</td>\n",
       "      <td>42.50</td>\n",
       "      <td>0.11</td>\n",
       "      <td>1.23</td>\n",
       "      <td>0.10</td>\n",
       "      <td>0.89</td>\n",
       "    </tr>\n",
       "    <tr>\n",
       "      <th>min</th>\n",
       "      <td>0.90</td>\n",
       "      <td>6.00</td>\n",
       "      <td>0.33</td>\n",
       "      <td>8.40</td>\n",
       "      <td>0.12</td>\n",
       "      <td>3.00</td>\n",
       "      <td>0.60</td>\n",
       "      <td>9.00</td>\n",
       "      <td>0.22</td>\n",
       "      <td>8.00</td>\n",
       "      <td>0.08</td>\n",
       "      <td>3.00</td>\n",
       "    </tr>\n",
       "    <tr>\n",
       "      <th>25%</th>\n",
       "      <td>1.90</td>\n",
       "      <td>22.00</td>\n",
       "      <td>0.55</td>\n",
       "      <td>9.50</td>\n",
       "      <td>0.39</td>\n",
       "      <td>5.00</td>\n",
       "      <td>1.70</td>\n",
       "      <td>108.00</td>\n",
       "      <td>0.41</td>\n",
       "      <td>9.50</td>\n",
       "      <td>0.21</td>\n",
       "      <td>5.00</td>\n",
       "    </tr>\n",
       "    <tr>\n",
       "      <th>50%</th>\n",
       "      <td>2.20</td>\n",
       "      <td>38.00</td>\n",
       "      <td>0.62</td>\n",
       "      <td>10.20</td>\n",
       "      <td>0.52</td>\n",
       "      <td>6.00</td>\n",
       "      <td>5.20</td>\n",
       "      <td>134.00</td>\n",
       "      <td>0.47</td>\n",
       "      <td>10.40</td>\n",
       "      <td>0.26</td>\n",
       "      <td>6.00</td>\n",
       "    </tr>\n",
       "    <tr>\n",
       "      <th>75%</th>\n",
       "      <td>2.60</td>\n",
       "      <td>62.00</td>\n",
       "      <td>0.73</td>\n",
       "      <td>11.10</td>\n",
       "      <td>0.64</td>\n",
       "      <td>6.00</td>\n",
       "      <td>9.90</td>\n",
       "      <td>167.00</td>\n",
       "      <td>0.55</td>\n",
       "      <td>11.40</td>\n",
       "      <td>0.32</td>\n",
       "      <td>6.00</td>\n",
       "    </tr>\n",
       "    <tr>\n",
       "      <th>max</th>\n",
       "      <td>15.50</td>\n",
       "      <td>289.00</td>\n",
       "      <td>2.00</td>\n",
       "      <td>14.90</td>\n",
       "      <td>1.58</td>\n",
       "      <td>8.00</td>\n",
       "      <td>65.80</td>\n",
       "      <td>440.00</td>\n",
       "      <td>1.08</td>\n",
       "      <td>14.20</td>\n",
       "      <td>1.10</td>\n",
       "      <td>9.00</td>\n",
       "    </tr>\n",
       "  </tbody>\n",
       "</table>\n",
       "</div>"
      ],
      "text/plain": [
       "      Red Wine Statistics                                          \\\n",
       "           residual sugar total sulfur dioxide sulphates  alcohol   \n",
       "count             1599.00              1599.00   1599.00  1599.00   \n",
       "mean                 2.54                46.47      0.66    10.42   \n",
       "std                  1.41                32.90      0.17     1.07   \n",
       "min                  0.90                 6.00      0.33     8.40   \n",
       "25%                  1.90                22.00      0.55     9.50   \n",
       "50%                  2.20                38.00      0.62    10.20   \n",
       "75%                  2.60                62.00      0.73    11.10   \n",
       "max                 15.50               289.00      2.00    14.90   \n",
       "\n",
       "                                White Wine Statistics                       \\\n",
       "      volatile acidity  quality        residual sugar total sulfur dioxide   \n",
       "count          1599.00  1599.00               4898.00              4898.00   \n",
       "mean              0.53     5.64                  6.39               138.36   \n",
       "std               0.18     0.81                  5.07                42.50   \n",
       "min               0.12     3.00                  0.60                 9.00   \n",
       "25%               0.39     5.00                  1.70               108.00   \n",
       "50%               0.52     6.00                  5.20               134.00   \n",
       "75%               0.64     6.00                  9.90               167.00   \n",
       "max               1.58     8.00                 65.80               440.00   \n",
       "\n",
       "                                                    \n",
       "      sulphates  alcohol volatile acidity  quality  \n",
       "count   4898.00  4898.00          4898.00  4898.00  \n",
       "mean       0.49    10.51             0.28     5.88  \n",
       "std        0.11     1.23             0.10     0.89  \n",
       "min        0.22     8.00             0.08     3.00  \n",
       "25%        0.41     9.50             0.21     5.00  \n",
       "50%        0.47    10.40             0.26     6.00  \n",
       "75%        0.55    11.40             0.32     6.00  \n",
       "max        1.08    14.20             1.10     9.00  "
      ]
     },
     "execution_count": 22,
     "metadata": {},
     "output_type": "execute_result"
    }
   ],
   "source": [
    "# analysis the ststistics of the red and white wine seperately based on the parameters mentioned above.\n",
    "subset_attributes = ['residual sugar', 'total sulfur dioxide', 'sulphates', 'alcohol', 'volatile acidity', 'quality']\n",
    "rs = round(red_wine[subset_attributes].describe(),2)\n",
    "ws = round(white_wine[subset_attributes].describe(),2)\n",
    "pd.concat([rs, ws], axis=1, keys=['Red Wine Statistics', 'White Wine Statistics'])"
   ]
  },
  {
   "cell_type": "markdown",
   "metadata": {},
   "source": [
    ". The statistics shows us that the quantity of white wines in the datset are higher.\n",
    ". The residaul sugar level of white_wine is less than the red_wine at 25% percentile.\n",
    ". The quality parameters of both the wines are almost similar."
   ]
  },
  {
   "cell_type": "code",
   "execution_count": 23,
   "metadata": {},
   "outputs": [
    {
     "data": {
      "text/html": [
       "<div>\n",
       "<style scoped>\n",
       "    .dataframe tbody tr th:only-of-type {\n",
       "        vertical-align: middle;\n",
       "    }\n",
       "\n",
       "    .dataframe tbody tr th {\n",
       "        vertical-align: top;\n",
       "    }\n",
       "\n",
       "    .dataframe thead tr th {\n",
       "        text-align: left;\n",
       "    }\n",
       "</style>\n",
       "<table border=\"1\" class=\"dataframe\">\n",
       "  <thead>\n",
       "    <tr>\n",
       "      <th></th>\n",
       "      <th colspan=\"4\" halign=\"left\">Low Quality Wine</th>\n",
       "      <th colspan=\"4\" halign=\"left\">Medium Quality Wine</th>\n",
       "      <th colspan=\"4\" halign=\"left\">High Quality Wine</th>\n",
       "    </tr>\n",
       "    <tr>\n",
       "      <th></th>\n",
       "      <th>alcohol</th>\n",
       "      <th>volatile acidity</th>\n",
       "      <th>pH</th>\n",
       "      <th>quality</th>\n",
       "      <th>alcohol</th>\n",
       "      <th>volatile acidity</th>\n",
       "      <th>pH</th>\n",
       "      <th>quality</th>\n",
       "      <th>alcohol</th>\n",
       "      <th>volatile acidity</th>\n",
       "      <th>pH</th>\n",
       "      <th>quality</th>\n",
       "    </tr>\n",
       "  </thead>\n",
       "  <tbody>\n",
       "    <tr>\n",
       "      <th>count</th>\n",
       "      <td>2384.00</td>\n",
       "      <td>2384.00</td>\n",
       "      <td>2384.00</td>\n",
       "      <td>2384.00</td>\n",
       "      <td>3915.00</td>\n",
       "      <td>3915.00</td>\n",
       "      <td>3915.00</td>\n",
       "      <td>3915.00</td>\n",
       "      <td>198.00</td>\n",
       "      <td>198.00</td>\n",
       "      <td>198.00</td>\n",
       "      <td>198.00</td>\n",
       "    </tr>\n",
       "    <tr>\n",
       "      <th>mean</th>\n",
       "      <td>9.87</td>\n",
       "      <td>0.40</td>\n",
       "      <td>3.21</td>\n",
       "      <td>4.88</td>\n",
       "      <td>10.81</td>\n",
       "      <td>0.31</td>\n",
       "      <td>3.22</td>\n",
       "      <td>6.28</td>\n",
       "      <td>11.69</td>\n",
       "      <td>0.29</td>\n",
       "      <td>3.23</td>\n",
       "      <td>8.03</td>\n",
       "    </tr>\n",
       "    <tr>\n",
       "      <th>std</th>\n",
       "      <td>0.84</td>\n",
       "      <td>0.19</td>\n",
       "      <td>0.16</td>\n",
       "      <td>0.36</td>\n",
       "      <td>1.20</td>\n",
       "      <td>0.14</td>\n",
       "      <td>0.16</td>\n",
       "      <td>0.45</td>\n",
       "      <td>1.27</td>\n",
       "      <td>0.12</td>\n",
       "      <td>0.16</td>\n",
       "      <td>0.16</td>\n",
       "    </tr>\n",
       "    <tr>\n",
       "      <th>min</th>\n",
       "      <td>8.00</td>\n",
       "      <td>0.10</td>\n",
       "      <td>2.74</td>\n",
       "      <td>3.00</td>\n",
       "      <td>8.40</td>\n",
       "      <td>0.08</td>\n",
       "      <td>2.72</td>\n",
       "      <td>6.00</td>\n",
       "      <td>8.50</td>\n",
       "      <td>0.12</td>\n",
       "      <td>2.88</td>\n",
       "      <td>8.00</td>\n",
       "    </tr>\n",
       "    <tr>\n",
       "      <th>25%</th>\n",
       "      <td>9.30</td>\n",
       "      <td>0.26</td>\n",
       "      <td>3.11</td>\n",
       "      <td>5.00</td>\n",
       "      <td>9.80</td>\n",
       "      <td>0.21</td>\n",
       "      <td>3.11</td>\n",
       "      <td>6.00</td>\n",
       "      <td>11.00</td>\n",
       "      <td>0.21</td>\n",
       "      <td>3.13</td>\n",
       "      <td>8.00</td>\n",
       "    </tr>\n",
       "    <tr>\n",
       "      <th>50%</th>\n",
       "      <td>9.60</td>\n",
       "      <td>0.34</td>\n",
       "      <td>3.20</td>\n",
       "      <td>5.00</td>\n",
       "      <td>10.80</td>\n",
       "      <td>0.27</td>\n",
       "      <td>3.21</td>\n",
       "      <td>6.00</td>\n",
       "      <td>12.00</td>\n",
       "      <td>0.28</td>\n",
       "      <td>3.23</td>\n",
       "      <td>8.00</td>\n",
       "    </tr>\n",
       "    <tr>\n",
       "      <th>75%</th>\n",
       "      <td>10.40</td>\n",
       "      <td>0.50</td>\n",
       "      <td>3.31</td>\n",
       "      <td>5.00</td>\n",
       "      <td>11.70</td>\n",
       "      <td>0.36</td>\n",
       "      <td>3.33</td>\n",
       "      <td>7.00</td>\n",
       "      <td>12.60</td>\n",
       "      <td>0.35</td>\n",
       "      <td>3.33</td>\n",
       "      <td>8.00</td>\n",
       "    </tr>\n",
       "    <tr>\n",
       "      <th>max</th>\n",
       "      <td>14.90</td>\n",
       "      <td>1.58</td>\n",
       "      <td>3.90</td>\n",
       "      <td>5.00</td>\n",
       "      <td>14.20</td>\n",
       "      <td>1.04</td>\n",
       "      <td>4.01</td>\n",
       "      <td>7.00</td>\n",
       "      <td>14.00</td>\n",
       "      <td>0.85</td>\n",
       "      <td>3.72</td>\n",
       "      <td>9.00</td>\n",
       "    </tr>\n",
       "  </tbody>\n",
       "</table>\n",
       "</div>"
      ],
      "text/plain": [
       "      Low Quality Wine                                    Medium Quality Wine  \\\n",
       "               alcohol volatile acidity       pH  quality             alcohol   \n",
       "count          2384.00          2384.00  2384.00  2384.00             3915.00   \n",
       "mean              9.87             0.40     3.21     4.88               10.81   \n",
       "std               0.84             0.19     0.16     0.36                1.20   \n",
       "min               8.00             0.10     2.74     3.00                8.40   \n",
       "25%               9.30             0.26     3.11     5.00                9.80   \n",
       "50%               9.60             0.34     3.20     5.00               10.80   \n",
       "75%              10.40             0.50     3.31     5.00               11.70   \n",
       "max              14.90             1.58     3.90     5.00               14.20   \n",
       "\n",
       "                                         High Quality Wine                   \\\n",
       "      volatile acidity       pH  quality           alcohol volatile acidity   \n",
       "count          3915.00  3915.00  3915.00            198.00           198.00   \n",
       "mean              0.31     3.22     6.28             11.69             0.29   \n",
       "std               0.14     0.16     0.45              1.27             0.12   \n",
       "min               0.08     2.72     6.00              8.50             0.12   \n",
       "25%               0.21     3.11     6.00             11.00             0.21   \n",
       "50%               0.27     3.21     6.00             12.00             0.28   \n",
       "75%               0.36     3.33     7.00             12.60             0.35   \n",
       "max               1.04     4.01     7.00             14.00             0.85   \n",
       "\n",
       "                       \n",
       "           pH quality  \n",
       "count  198.00  198.00  \n",
       "mean     3.23    8.03  \n",
       "std      0.16    0.16  \n",
       "min      2.88    8.00  \n",
       "25%      3.13    8.00  \n",
       "50%      3.23    8.00  \n",
       "75%      3.33    8.00  \n",
       "max      3.72    9.00  "
      ]
     },
     "execution_count": 23,
     "metadata": {},
     "output_type": "execute_result"
    }
   ],
   "source": [
    "# checking the statistics on the basis on quality_labels.\n",
    "subset_attributes = ['alcohol', 'volatile acidity', 'pH', 'quality']\n",
    "ls = round(wines[wines['quality_label'] == 'low'][subset_attributes].describe(),2)\n",
    "ms = round(wines[wines['quality_label'] == 'medium'][subset_attributes].describe(),2)\n",
    "hs = round(wines[wines['quality_label'] == 'high'][subset_attributes].describe(),2)\n",
    "pd.concat([ls, ms, hs], axis=1, keys=['Low Quality Wine', 'Medium Quality Wine', 'High Quality Wine'])"
   ]
  },
  {
   "cell_type": "code",
   "execution_count": 24,
   "metadata": {},
   "outputs": [
    {
     "data": {
      "text/plain": [
       "fixed acidity           0.647751\n",
       "volatile acidity        1.576980\n",
       "citric acid             1.281920\n",
       "residual sugar          1.077094\n",
       "chlorides               5.023331\n",
       "free sulfur dioxide     1.406745\n",
       "total sulfur dioxide    0.390710\n",
       "density                 0.977773\n",
       "pH                      0.457783\n",
       "sulphates               0.977194\n",
       "alcohol                 0.487342\n",
       "quality                 0.155796\n",
       "dtype: float64"
      ]
     },
     "execution_count": 24,
     "metadata": {},
     "output_type": "execute_result"
    }
   ],
   "source": [
    "white_wine.skew()"
   ]
  },
  {
   "cell_type": "code",
   "execution_count": 25,
   "metadata": {},
   "outputs": [
    {
     "data": {
      "text/plain": [
       "fixed acidity           0.982751\n",
       "volatile acidity        0.671593\n",
       "citric acid             0.318337\n",
       "residual sugar          4.540655\n",
       "chlorides               5.680347\n",
       "free sulfur dioxide     1.250567\n",
       "total sulfur dioxide    1.515531\n",
       "density                 0.071288\n",
       "pH                      0.193683\n",
       "sulphates               2.428672\n",
       "alcohol                 0.860829\n",
       "quality                 0.217802\n",
       "dtype: float64"
      ]
     },
     "execution_count": 25,
     "metadata": {},
     "output_type": "execute_result"
    }
   ],
   "source": [
    "red_wine.skew()"
   ]
  },
  {
   "cell_type": "markdown",
   "metadata": {},
   "source": [
    "We can see that the chlorides are more positively skewed in both of the wine_types.\n"
   ]
  },
  {
   "cell_type": "markdown",
   "metadata": {},
   "source": [
    "# inferential statistics\n",
    "Inferential statistics use a random sample of data taken from a population to describe and make inferences about the population. The idea is to use statistical methods and models to draw statistical inferences from a given\n",
    "hypotheses. Each hypothesis consists of a null hypothesis and an alternative hypothesis. Based on statistical\n",
    "test results, if the result is statistically significant based on pre-set significance levels (e.g., if obtained\n",
    "p-value is less than 5% significance level), we reject the null hypothesis in favor of the alternative hypothesis"
   ]
  },
  {
   "cell_type": "code",
   "execution_count": 26,
   "metadata": {},
   "outputs": [
    {
     "name": "stdout",
     "output_type": "stream",
     "text": [
      "ANOVA test for mean alcohol levels across wine samples with different quality ratings\n",
      "F Statistic: 673.0745347231032 \tp-value: 2.2715337450621843e-266\n",
      "\n",
      "ANOVA test for mean pH levels across wine samples with different quality ratings\n",
      "F Statistic: 1.2363860803545201 \tp-value: 0.2905002779768688\n"
     ]
    }
   ],
   "source": [
    "# scipy is the best library for inferential statistics in python.\n",
    "\n",
    "from scipy import stats\n",
    " \n",
    "F, p = stats.f_oneway(wines[wines['quality_label'] == 'low']['alcohol'], \n",
    "                      wines[wines['quality_label'] == 'medium']['alcohol'], \n",
    "                      wines[wines['quality_label'] == 'high']['alcohol'])\n",
    "print('ANOVA test for mean alcohol levels across wine samples with different quality ratings')\n",
    "print('F Statistic:', F, '\\tp-value:', p)\n",
    "\n",
    "F, p = stats.f_oneway(wines[wines['quality_label'] == 'low']['pH'], \n",
    "                      wines[wines['quality_label'] == 'medium']['pH'], \n",
    "                      wines[wines['quality_label'] == 'high']['pH'])\n",
    "print('\\nANOVA test for mean pH levels across wine samples with different quality ratings')\n",
    "print('F Statistic:', F, '\\tp-value:', p)"
   ]
  },
  {
   "cell_type": "markdown",
   "metadata": {},
   "source": [
    "From the preceding results we can clearly see we have a p-value much less than 0.05 in the first test and\n",
    "greater than 0.05 in the second test. This tells us that there is a statistically significant difference in alcohol\n",
    "level means for at least two groups out of the three (rejecting the null hypothesis in favor of the alternative).\n",
    "However, in case of pH level means, we do not reject the null hypothesis and thus we conclude that the pH\n",
    "level means across the three groups are not statistically significantly different. We can even visualize these\n",
    "two features and observe the means using the following snippet."
   ]
  },
  {
   "cell_type": "code",
   "execution_count": 27,
   "metadata": {},
   "outputs": [
    {
     "data": {
      "text/plain": [
       "Text(0, 0.5, 'Wine pH')"
      ]
     },
     "execution_count": 27,
     "metadata": {},
     "output_type": "execute_result"
    },
    {
     "data": {
      "image/png": "[encoded data removed]",
      "text/plain": [
       "<Figure size 720x288 with 2 Axes>"
      ]
     },
     "metadata": {
      "needs_background": "light"
     },
     "output_type": "display_data"
    }
   ],
   "source": [
    "# visualization of above result.\n",
    "f, (ax1, ax2) = plt.subplots(1, 2, figsize=(10, 4))\n",
    "f.suptitle('Wine Quality - Alcohol Content/pH', fontsize=14)\n",
    "f.subplots_adjust(top=0.85, wspace=0.3)\n",
    "\n",
    "sns.boxplot(x=\"quality_label\", y=\"alcohol\",\n",
    "            data=wines, ax=ax1)\n",
    "ax1.set_xlabel(\"Wine Quality Class\",size = 12,alpha=0.8)\n",
    "ax1.set_ylabel(\"Wine Alcohol %\",size = 12,alpha=0.8)\n",
    "\n",
    "sns.boxplot(x=\"quality_label\", y=\"pH\", data=wines, ax=ax2)\n",
    "ax2.set_xlabel(\"Wine Quality Class\",size = 12,alpha=0.8)\n",
    "ax2.set_ylabel(\"Wine pH\",size = 12,alpha=0.8)"
   ]
  },
  {
   "cell_type": "markdown",
   "metadata": {},
   "source": [
    "# Univariate Analysis\n",
    "This is perhaps one of the easiest yet a core foundational step in exploratory data analysis. Univariate\n",
    "analysis involves analyzing data such that at any instance of analysis we are only dealing with one variable or\n",
    "feature. No relationships or correlations are analyzed among multiple variables."
   ]
  },
  {
   "cell_type": "code",
   "execution_count": 28,
   "metadata": {},
   "outputs": [
    {
     "data": {
      "image/png": "[encoded data removed]",
      "text/plain": [
       "<Figure size 432x288 with 12 Axes>"
      ]
     },
     "metadata": {
      "needs_background": "light"
     },
     "output_type": "display_data"
    },
    {
     "data": {
      "image/png": "[encoded data removed]",
      "text/plain": [
       "<Figure size 432x288 with 12 Axes>"
      ]
     },
     "metadata": {
      "needs_background": "light"
     },
     "output_type": "display_data"
    }
   ],
   "source": [
    "# plotting histograms for univariate analysis.\n",
    "red_wine.hist(bins=10, color='red', edgecolor='blue', linewidth=1.0,\n",
    "              xlabelsize=10, ylabelsize=10, grid=False)    \n",
    "plt.tight_layout(rect=(0, 0, 1.5, 1.5))   \n",
    "rt = plt.suptitle('Red Wine Univariate Plots', x=0.75, y=1.5, fontsize=14)  \n",
    "\n",
    "white_wine.hist(bins=10, color='white', edgecolor='black', linewidth=1.0,\n",
    "              xlabelsize=8, ylabelsize=8, grid=False)    \n",
    "plt.tight_layout(rect=(0, 0, 1.2, 1.2))   \n",
    "wt = plt.suptitle('White Wine Univariate Plots', x=0.65, y=1.25, fontsize=14)    "
   ]
  },
  {
   "cell_type": "markdown",
   "metadata": {},
   "source": [
    "We can draw some insights from above plots about resudal sugar level .\n"
   ]
  },
  {
   "cell_type": "code",
   "execution_count": 29,
   "metadata": {},
   "outputs": [
    {
     "data": {
      "image/png": "[encoded data removed]",
      "text/plain": [
       "<Figure size 720x288 with 2 Axes>"
      ]
     },
     "metadata": {
      "needs_background": "light"
     },
     "output_type": "display_data"
    }
   ],
   "source": [
    "# plotting the residual sugar for more refined view.\n",
    "fig = plt.figure(figsize = (10,4))\n",
    "title = fig.suptitle(\"Residual Sugar Content in Wine\", fontsize=14)\n",
    "fig.subplots_adjust(top=0.85, wspace=0.3)\n",
    "\n",
    "ax1 = fig.add_subplot(1,2, 1)\n",
    "ax1.set_title(\"Red Wine\")\n",
    "ax1.set_xlabel(\"Residual Sugar\")\n",
    "ax1.set_ylabel(\"Frequency\") \n",
    "ax1.set_ylim([0, 2500])\n",
    "ax1.text(8, 1000, r'$\\mu$='+str(round(red_wine['residual sugar'].mean(),2)), \n",
    "         fontsize=12)\n",
    "r_freq, r_bins, r_patches = ax1.hist(red_wine['residual sugar'], color='red', bins=15,\n",
    "                                    edgecolor='black', linewidth=1)\n",
    "\n",
    "ax2 = fig.add_subplot(1,2, 2)\n",
    "ax2.set_title(\"White Wine\")\n",
    "ax2.set_xlabel(\"Residual Sugar\")\n",
    "ax2.set_ylabel(\"Frequency\")\n",
    "ax2.set_ylim([0, 2500])\n",
    "ax2.text(30, 1000, r'$\\mu$='+str(round(white_wine['residual sugar'].mean(),2)), \n",
    "         fontsize=12)\n",
    "w_freq, w_bins, w_patches = ax2.hist(white_wine['residual sugar'], color='white', bins=15,\n",
    "                                    edgecolor='black', linewidth=1)"
   ]
  },
  {
   "cell_type": "markdown",
   "metadata": {},
   "source": [
    "residual sugar content in white wine\n",
    "samples seems to be more as compared to red wine samples."
   ]
  },
  {
   "cell_type": "code",
   "execution_count": 30,
   "metadata": {},
   "outputs": [
    {
     "data": {
      "image/png": "[encoded data removed]",
      "text/plain": [
       "<Figure size 720x288 with 2 Axes>"
      ]
     },
     "metadata": {
      "needs_background": "light"
     },
     "output_type": "display_data"
    }
   ],
   "source": [
    "# checking for other insights from the plots.\n",
    "fig = plt.figure(figsize = (10,4))\n",
    "title = fig.suptitle(\"Sulphates Content in Wine\", fontsize=14)\n",
    "fig.subplots_adjust(top=0.85, wspace=0.3)\n",
    "\n",
    "ax1 = fig.add_subplot(1,2, 1)\n",
    "ax1.set_title(\"Red Wine\")\n",
    "ax1.set_xlabel(\"Sulphates\")\n",
    "ax1.set_ylabel(\"Frequency\") \n",
    "ax1.set_ylim([0, 1200])\n",
    "ax1.text(1.2, 800, r'$\\mu$='+str(round(red_wine['sulphates'].mean(),2)), \n",
    "         fontsize=12)\n",
    "r_freq, r_bins, r_patches = ax1.hist(red_wine['sulphates'], color='red', bins=15,\n",
    "                                    edgecolor='black', linewidth=1)\n",
    "\n",
    "ax2 = fig.add_subplot(1,2, 2)\n",
    "ax2.set_title(\"White Wine\")\n",
    "ax2.set_xlabel(\"Sulphates\")\n",
    "ax2.set_ylabel(\"Frequency\")\n",
    "ax2.set_ylim([0, 1200])\n",
    "ax2.text(0.8, 800, r'$\\mu$='+str(round(white_wine['sulphates'].mean(),2)), \n",
    "         fontsize=12)\n",
    "w_freq, w_bins, w_patches = ax2.hist(white_wine['sulphates'], color='white', bins=15,\n",
    "                                    edgecolor='black', linewidth=1)"
   ]
  },
  {
   "cell_type": "markdown",
   "metadata": {},
   "source": [
    "We can see the difference between the sulphates content in wine of red and white."
   ]
  },
  {
   "cell_type": "markdown",
   "metadata": {},
   "source": [
    "# Multivariate Analysis\n",
    "Analyzing multiple feature variables and their relationships is what multivariate analysis is all about. We\n",
    "would want to see if there are any interesting patterns and relationships among the physicochemical\n",
    "attributes of our wine samples, which might be helpful in our modeling process in the future. One of the best\n",
    "ways to analyze features is to build a pairwise correlation plot depicting the correlation coefficient between\n",
    "each pair of features in the dataset."
   ]
  },
  {
   "cell_type": "code",
   "execution_count": 31,
   "metadata": {},
   "outputs": [
    {
     "data": {
      "image/png": "[encoded data removed]",
      "text/plain": [
       "<Figure size 864x432 with 2 Axes>"
      ]
     },
     "metadata": {
      "needs_background": "light"
     },
     "output_type": "display_data"
    }
   ],
   "source": [
    "f, ax = plt.subplots(figsize=(12, 6))\n",
    "corr = wines.corr()\n",
    "hm = sns.heatmap(round(corr,2), annot=True, ax=ax, cmap=\"coolwarm\",fmt='.2f',\n",
    "            linewidths=.05)\n",
    "f.subplots_adjust(top=0.93)\n",
    "t= f.suptitle('Wine Attributes Correlation Heatmap', fontsize=14)"
   ]
  },
  {
   "cell_type": "markdown",
   "metadata": {},
   "source": [
    "we can see a strong negative\n",
    "correlation between density and alcohol and a strong positive correlation between total and free sulfur\n",
    "dioxide, which is expected."
   ]
  },
  {
   "cell_type": "code",
   "execution_count": 32,
   "metadata": {},
   "outputs": [
    {
     "data": {
      "image/png": "[encoded data removed]",
      "text/plain": [
       "<Figure size 763.215x388.8 with 12 Axes>"
      ]
     },
     "metadata": {
      "needs_background": "light"
     },
     "output_type": "display_data"
    }
   ],
   "source": [
    "# Generating pairwise plot for some features of the dataset.\n",
    "cols = ['wine_type', 'quality', 'sulphates', 'volatile acidity']\n",
    "pp = sns.pairplot(wines[cols], hue='wine_type', height=1.8, aspect=1.8, \n",
    "                  palette={\"red\": \"#FF9999\", \"white\": \"#FFE888\"},\n",
    "                  plot_kws=dict(edgecolor=\"black\", linewidth=0.5))\n",
    "fig = pp.fig \n",
    "fig.subplots_adjust(top=0.93, wspace=0.3)\n",
    "t = fig.suptitle('Wine Attributes Pairwise Plots', fontsize=14)"
   ]
  },
  {
   "cell_type": "markdown",
   "metadata": {},
   "source": [
    "we can notice several interesting patterns, which are in alignment with some insights we obtained earlier. These observations include the following:\n",
    "\n",
    "1. Presence of higher sulphate levels in red wines as compared to white wines\n",
    "2. Lower sulphate levels in wines with high quality ratings\n",
    "3. Lower levels of volatile acids in wines with high quality ratings\n",
    "4. Presence of higher volatile acid levels in red wines as compared to white wines\n",
    "\n",
    "we can use similar plots on other variables and features to discover more patterns and relationships."
   ]
  },
  {
   "cell_type": "code",
   "execution_count": 33,
   "metadata": {},
   "outputs": [
    {
     "data": {
      "image/png": "[encoded data removed]",
      "text/plain": [
       "<Figure size 324x324 with 3 Axes>"
      ]
     },
     "metadata": {
      "needs_background": "light"
     },
     "output_type": "display_data"
    },
    {
     "data": {
      "image/png": "[encoded data removed]",
      "text/plain": [
       "<Figure size 324x324 with 3 Axes>"
      ]
     },
     "metadata": {
      "needs_background": "light"
     },
     "output_type": "display_data"
    }
   ],
   "source": [
    "rj = sns.jointplot(x='quality', y='sulphates', data=red_wine,\n",
    "                   kind='reg', ylim=(0, 2),  \n",
    "                   color='red', space=0, height=4.5, ratio=4)\n",
    "rj.ax_joint.set_xticks(list(range(3,9)))\n",
    "fig = rj.fig \n",
    "fig.subplots_adjust(top=0.9)\n",
    "t = fig.suptitle('Red Wine Sulphates - Quality', fontsize=12)\n",
    "\n",
    "wj = sns.jointplot(x='quality', y='sulphates', data=white_wine,\n",
    "                   kind='reg', ylim=(0, 2),\n",
    "                   color='#FFE160', space=0, height=4.5, ratio=4)\n",
    "wj.ax_joint.set_xticks(list(range(3,10)))\n",
    "fig = wj.fig \n",
    "fig.subplots_adjust(top=0.9)\n",
    "t = fig.suptitle('White Wine Sulphates - Quality', fontsize=12)"
   ]
  },
  {
   "cell_type": "markdown",
   "metadata": {},
   "source": [
    "we do see clearly that sulphate levels\n",
    "for red wine are much higher as compared to the ones in white wine. In this case we have visualized three\n",
    "features (type, quality, and sulphates) with the help of two plots."
   ]
  },
  {
   "cell_type": "code",
   "execution_count": 34,
   "metadata": {},
   "outputs": [
    {
     "data": {
      "image/png": "[encoded data removed]",
      "text/plain": [
       "<Figure size 706.425x252 with 2 Axes>"
      ]
     },
     "metadata": {
      "needs_background": "light"
     },
     "output_type": "display_data"
    }
   ],
   "source": [
    "# Fact grid for more drawable insights.\n",
    "g = sns.FacetGrid(wines, col=\"wine_type\", hue='quality_label', \n",
    "                  col_order=['red', 'white'], hue_order=['low', 'medium', 'high'],\n",
    "                  aspect=1.2, height=3.5, palette=sns.light_palette('navy', 3))\n",
    "g.map(plt.scatter, \"volatile acidity\", \"alcohol\", alpha=0.9, \n",
    "      edgecolor='white', linewidth=0.5)\n",
    "fig = g.fig \n",
    "fig.subplots_adjust(top=0.8, wspace=0.3)\n",
    "fig.suptitle('Wine Type - Alcohol - Quality - Acidity', fontsize=14)\n",
    "l = g.add_legend(title='Wine Quality Class')"
   ]
  },
  {
   "cell_type": "markdown",
   "metadata": {},
   "source": [
    "Higher quality wine samples\n",
    "(depicted by darker shades) have lower levels of volatile acidity and higher levels of alcohol content as\n",
    "compared to wine samples with medium and low ratings. Besides this, we can also see that volatile acidity\n",
    "levels are slightly lower in white wine samples as compared to red wine samples."
   ]
  },
  {
   "cell_type": "markdown",
   "metadata": {},
   "source": [
    "A nice way to visualize numerical features segmented by groups (categorical variables) is to use box\n",
    "plots."
   ]
  },
  {
   "cell_type": "code",
   "execution_count": 35,
   "metadata": {},
   "outputs": [
    {
     "data": {
      "image/png": "[encoded data removed]",
      "text/plain": [
       "<Figure size 1008x288 with 2 Axes>"
      ]
     },
     "metadata": {
      "needs_background": "light"
     },
     "output_type": "display_data"
    }
   ],
   "source": [
    "# Box plot for interquartile range and outliers.\n",
    "f, (ax1, ax2) = plt.subplots(1, 2, figsize=(14, 4))\n",
    "f.suptitle('Wine Type - Quality - Alcohol Content', fontsize=14)\n",
    "\n",
    "sns.boxplot(x=\"quality\", y=\"alcohol\", hue=\"wine_type\",\n",
    "               data=wines, palette={\"red\": \"#FF9999\", \"white\": \"white\"}, ax=ax1)\n",
    "ax1.set_xlabel(\"Wine Quality\",size = 12,alpha=0.8)\n",
    "ax1.set_ylabel(\"Wine Alcohol %\",size = 12,alpha=0.8)\n",
    "\n",
    "sns.boxplot(x=\"quality_label\", y=\"alcohol\", hue=\"wine_type\",\n",
    "               data=wines, palette={\"red\": \"#FF9999\", \"white\": \"white\"}, ax=ax2)\n",
    "ax2.set_xlabel(\"Wine Quality Class\",size = 12,alpha=0.8)\n",
    "ax2.set_ylabel(\"Wine Alcohol %\",size = 12,alpha=0.8)\n",
    "l = plt.legend(loc='best', title='Wine Type')"
   ]
  },
  {
   "cell_type": "markdown",
   "metadata": {},
   "source": [
    "The distribution of alcohol level\n",
    "for a particular wine quality rating separated by wine types. The box itself depicts the inter-quartile range\n",
    "and the line inside depicts the median value of alcohol. Whiskers indicate the minimum and maximum\n",
    "value with outliers often depicted by individual points. We can clearly observe the wine alcohol by volume\n",
    "distribution has an increasing trend based on higher quality rated wine samples."
   ]
  },
  {
   "cell_type": "markdown",
   "metadata": {},
   "source": [
    "### violin plots to visualize distributions of numeric features over categorical features."
   ]
  },
  {
   "cell_type": "code",
   "execution_count": 36,
   "metadata": {},
   "outputs": [
    {
     "data": {
      "image/png": "[encoded data removed]",
      "text/plain": [
       "<Figure size 1008x288 with 2 Axes>"
      ]
     },
     "metadata": {
      "needs_background": "light"
     },
     "output_type": "display_data"
    }
   ],
   "source": [
    "f, (ax1, ax2) = plt.subplots(1, 2, figsize=(14, 4))\n",
    "f.suptitle('Wine Type - Quality - Acidity', fontsize=14)\n",
    "\n",
    "sns.violinplot(x=\"quality\", y=\"volatile acidity\", hue=\"wine_type\", \n",
    "               data=wines, split=True, inner=\"quart\", linewidth=1.3,\n",
    "               palette={\"red\": \"#FF9999\", \"white\": \"white\"}, ax=ax1)\n",
    "ax1.set_xlabel(\"Wine Quality\",size = 12,alpha=0.8)\n",
    "ax1.set_ylabel(\"Wine Fixed Acidity\",size = 12,alpha=0.8)\n",
    "\n",
    "sns.violinplot(x=\"quality_label\", y=\"volatile acidity\", hue=\"wine_type\", \n",
    "               data=wines, split=True, inner=\"quart\", linewidth=1.3,\n",
    "               palette={\"red\": \"#FF9999\", \"white\": \"white\"}, ax=ax2)\n",
    "ax2.set_xlabel(\"Wine Quality Class\",size = 12,alpha=0.8)\n",
    "ax2.set_ylabel(\"Wine Fixed Acidity\",size = 12,alpha=0.8)\n",
    "l = plt.legend(loc='upper right', title='Wine Type')"
   ]
  },
  {
   "cell_type": "markdown",
   "metadata": {},
   "source": [
    "Each violin plot typically depicts the inter-quartile range with the median which is shown\n",
    "with dotted lines in this figure. You can also visualize the distribution of data with the density plots where\n",
    "width depicts frequency. Thus in addition to the information you get from box plots, you can also visualize the\n",
    "distribution of data with violin plots."
   ]
  },
  {
   "cell_type": "markdown",
   "metadata": {},
   "source": [
    "##### It is quite evident that red wine samples have higher acidity as compared to its white wine counterparts.\n",
    "Also we can see an overall decrease in acidity with higher quality wine for red wine samples but not so much\n",
    "for white wine samples."
   ]
  },
  {
   "cell_type": "markdown",
   "metadata": {},
   "source": [
    "### Reference : prectical Machine learning book"
   ]
  },
  {
   "cell_type": "markdown",
   "metadata": {},
   "source": [
    "We covered lots of insights from the data now its time to do some predictive analysis.\n"
   ]
  },
  {
   "cell_type": "markdown",
   "metadata": {},
   "source": [
    "# Predictive analysis"
   ]
  },
  {
   "cell_type": "markdown",
   "metadata": {},
   "source": [
    "We would compare different models on this dataset and compare their accuracy for drawing knowledge that is to which algorithm is to be used when."
   ]
  },
  {
   "cell_type": "markdown",
   "metadata": {},
   "source": [
    "There can be two types of prediction in this dataset.\n",
    "1. Prediction of wine_types.\n",
    "2. Prediction of wine_quality.\n"
   ]
  },
  {
   "cell_type": "code",
   "execution_count": 37,
   "metadata": {},
   "outputs": [],
   "source": [
    "# Importing libraries for processing.\n",
    "from sklearn.model_selection import train_test_split\n",
    "from collections import Counter\n",
    "from sklearn.preprocessing import StandardScaler\n",
    "from sklearn.preprocessing import LabelEncoder"
   ]
  },
  {
   "cell_type": "code",
   "execution_count": 38,
   "metadata": {},
   "outputs": [
    {
     "data": {
      "text/html": [
       "<div>\n",
       "<style scoped>\n",
       "    .dataframe tbody tr th:only-of-type {\n",
       "        vertical-align: middle;\n",
       "    }\n",
       "\n",
       "    .dataframe tbody tr th {\n",
       "        vertical-align: top;\n",
       "    }\n",
       "\n",
       "    .dataframe thead th {\n",
       "        text-align: right;\n",
       "    }\n",
       "</style>\n",
       "<table border=\"1\" class=\"dataframe\">\n",
       "  <thead>\n",
       "    <tr style=\"text-align: right;\">\n",
       "      <th></th>\n",
       "      <th>fixed acidity</th>\n",
       "      <th>volatile acidity</th>\n",
       "      <th>citric acid</th>\n",
       "      <th>residual sugar</th>\n",
       "      <th>chlorides</th>\n",
       "      <th>free sulfur dioxide</th>\n",
       "      <th>total sulfur dioxide</th>\n",
       "      <th>density</th>\n",
       "      <th>pH</th>\n",
       "      <th>sulphates</th>\n",
       "      <th>alcohol</th>\n",
       "      <th>quality</th>\n",
       "      <th>wine_type</th>\n",
       "      <th>quality_label</th>\n",
       "    </tr>\n",
       "  </thead>\n",
       "  <tbody>\n",
       "    <tr>\n",
       "      <th>0</th>\n",
       "      <td>7.3</td>\n",
       "      <td>0.365</td>\n",
       "      <td>0.49</td>\n",
       "      <td>2.5</td>\n",
       "      <td>0.088</td>\n",
       "      <td>39.0</td>\n",
       "      <td>106.0</td>\n",
       "      <td>0.99660</td>\n",
       "      <td>3.36</td>\n",
       "      <td>0.78</td>\n",
       "      <td>11.0</td>\n",
       "      <td>5</td>\n",
       "      <td>red</td>\n",
       "      <td>low</td>\n",
       "    </tr>\n",
       "    <tr>\n",
       "      <th>1</th>\n",
       "      <td>7.2</td>\n",
       "      <td>0.160</td>\n",
       "      <td>0.29</td>\n",
       "      <td>1.0</td>\n",
       "      <td>0.031</td>\n",
       "      <td>40.0</td>\n",
       "      <td>123.0</td>\n",
       "      <td>0.98958</td>\n",
       "      <td>3.12</td>\n",
       "      <td>0.40</td>\n",
       "      <td>12.1</td>\n",
       "      <td>7</td>\n",
       "      <td>white</td>\n",
       "      <td>medium</td>\n",
       "    </tr>\n",
       "    <tr>\n",
       "      <th>2</th>\n",
       "      <td>6.5</td>\n",
       "      <td>0.220</td>\n",
       "      <td>0.25</td>\n",
       "      <td>17.1</td>\n",
       "      <td>0.050</td>\n",
       "      <td>44.0</td>\n",
       "      <td>138.0</td>\n",
       "      <td>1.00010</td>\n",
       "      <td>3.30</td>\n",
       "      <td>0.37</td>\n",
       "      <td>8.8</td>\n",
       "      <td>5</td>\n",
       "      <td>white</td>\n",
       "      <td>low</td>\n",
       "    </tr>\n",
       "    <tr>\n",
       "      <th>3</th>\n",
       "      <td>5.7</td>\n",
       "      <td>0.265</td>\n",
       "      <td>0.28</td>\n",
       "      <td>6.9</td>\n",
       "      <td>0.036</td>\n",
       "      <td>46.0</td>\n",
       "      <td>150.0</td>\n",
       "      <td>0.99299</td>\n",
       "      <td>3.36</td>\n",
       "      <td>0.44</td>\n",
       "      <td>10.8</td>\n",
       "      <td>7</td>\n",
       "      <td>white</td>\n",
       "      <td>medium</td>\n",
       "    </tr>\n",
       "    <tr>\n",
       "      <th>4</th>\n",
       "      <td>6.3</td>\n",
       "      <td>0.230</td>\n",
       "      <td>0.21</td>\n",
       "      <td>5.1</td>\n",
       "      <td>0.035</td>\n",
       "      <td>29.0</td>\n",
       "      <td>142.0</td>\n",
       "      <td>0.99420</td>\n",
       "      <td>3.36</td>\n",
       "      <td>0.33</td>\n",
       "      <td>10.1</td>\n",
       "      <td>7</td>\n",
       "      <td>white</td>\n",
       "      <td>medium</td>\n",
       "    </tr>\n",
       "  </tbody>\n",
       "</table>\n",
       "</div>"
      ],
      "text/plain": [
       "   fixed acidity  volatile acidity  citric acid  residual sugar  chlorides  \\\n",
       "0            7.3             0.365         0.49             2.5      0.088   \n",
       "1            7.2             0.160         0.29             1.0      0.031   \n",
       "2            6.5             0.220         0.25            17.1      0.050   \n",
       "3            5.7             0.265         0.28             6.9      0.036   \n",
       "4            6.3             0.230         0.21             5.1      0.035   \n",
       "\n",
       "   free sulfur dioxide  total sulfur dioxide  density    pH  sulphates  \\\n",
       "0                 39.0                 106.0  0.99660  3.36       0.78   \n",
       "1                 40.0                 123.0  0.98958  3.12       0.40   \n",
       "2                 44.0                 138.0  1.00010  3.30       0.37   \n",
       "3                 46.0                 150.0  0.99299  3.36       0.44   \n",
       "4                 29.0                 142.0  0.99420  3.36       0.33   \n",
       "\n",
       "   alcohol  quality wine_type quality_label  \n",
       "0     11.0        5       red           low  \n",
       "1     12.1        7     white        medium  \n",
       "2      8.8        5     white           low  \n",
       "3     10.8        7     white        medium  \n",
       "4     10.1        7     white        medium  "
      ]
     },
     "execution_count": 38,
     "metadata": {},
     "output_type": "execute_result"
    }
   ],
   "source": [
    "wines.head()"
   ]
  },
  {
   "cell_type": "code",
   "execution_count": 39,
   "metadata": {},
   "outputs": [],
   "source": [
    "X = wines.iloc[:,:-3]"
   ]
  },
  {
   "cell_type": "code",
   "execution_count": 40,
   "metadata": {},
   "outputs": [
    {
     "data": {
      "text/plain": [
       "Index(['fixed acidity', 'volatile acidity', 'citric acid', 'residual sugar',\n",
       "       'chlorides', 'free sulfur dioxide', 'total sulfur dioxide', 'density',\n",
       "       'pH', 'sulphates', 'alcohol'],\n",
       "      dtype='object')"
      ]
     },
     "execution_count": 40,
     "metadata": {},
     "output_type": "execute_result"
    }
   ],
   "source": [
    "X.columns"
   ]
  },
  {
   "cell_type": "code",
   "execution_count": 41,
   "metadata": {},
   "outputs": [
    {
     "name": "stdout",
     "output_type": "stream",
     "text": [
      "<class 'pandas.core.frame.DataFrame'>\n",
      "RangeIndex: 6497 entries, 0 to 6496\n",
      "Data columns (total 11 columns):\n",
      "fixed acidity           6497 non-null float64\n",
      "volatile acidity        6497 non-null float64\n",
      "citric acid             6497 non-null float64\n",
      "residual sugar          6497 non-null float64\n",
      "chlorides               6497 non-null float64\n",
      "free sulfur dioxide     6497 non-null float64\n",
      "total sulfur dioxide    6497 non-null float64\n",
      "density                 6497 non-null float64\n",
      "pH                      6497 non-null float64\n",
      "sulphates               6497 non-null float64\n",
      "alcohol                 6497 non-null float64\n",
      "dtypes: float64(11)\n",
      "memory usage: 558.4 KB\n"
     ]
    }
   ],
   "source": [
    "X.info()"
   ]
  },
  {
   "cell_type": "code",
   "execution_count": 42,
   "metadata": {},
   "outputs": [],
   "source": [
    "cols = X.columns"
   ]
  },
  {
   "cell_type": "code",
   "execution_count": 43,
   "metadata": {},
   "outputs": [
    {
     "data": {
      "text/plain": [
       "Index(['fixed acidity', 'volatile acidity', 'citric acid', 'residual sugar',\n",
       "       'chlorides', 'free sulfur dioxide', 'total sulfur dioxide', 'density',\n",
       "       'pH', 'sulphates', 'alcohol'],\n",
       "      dtype='object')"
      ]
     },
     "execution_count": 43,
     "metadata": {},
     "output_type": "execute_result"
    }
   ],
   "source": [
    "cols"
   ]
  },
  {
   "cell_type": "code",
   "execution_count": 44,
   "metadata": {},
   "outputs": [
    {
     "name": "stdout",
     "output_type": "stream",
     "text": [
      "False    6497\n",
      "Name: fixed acidity, dtype: int64\n",
      "\n",
      "False    6497\n",
      "Name: volatile acidity, dtype: int64\n",
      "\n",
      "False    6497\n",
      "Name: citric acid, dtype: int64\n",
      "\n",
      "False    6497\n",
      "Name: residual sugar, dtype: int64\n",
      "\n",
      "False    6497\n",
      "Name: chlorides, dtype: int64\n",
      "\n",
      "False    6497\n",
      "Name: free sulfur dioxide, dtype: int64\n",
      "\n",
      "False    6497\n",
      "Name: total sulfur dioxide, dtype: int64\n",
      "\n",
      "False    6497\n",
      "Name: density, dtype: int64\n",
      "\n",
      "False    6497\n",
      "Name: pH, dtype: int64\n",
      "\n",
      "False    6497\n",
      "Name: sulphates, dtype: int64\n",
      "\n",
      "False    6497\n",
      "Name: alcohol, dtype: int64\n",
      "\n"
     ]
    }
   ],
   "source": [
    "for col in cols:\n",
    "    print(X[col].isnull().value_counts())\n",
    "    print()"
   ]
  },
  {
   "cell_type": "markdown",
   "metadata": {},
   "source": [
    "We can see that there are no missing values in any columns.\n"
   ]
  },
  {
   "cell_type": "code",
   "execution_count": 45,
   "metadata": {},
   "outputs": [],
   "source": [
    "# class labels\n",
    "wines['wine_type'] = np.where(wines['wine_type']=='red', 1, 0)"
   ]
  },
  {
   "cell_type": "code",
   "execution_count": 46,
   "metadata": {},
   "outputs": [],
   "source": [
    "y = wines['wine_type']"
   ]
  },
  {
   "cell_type": "code",
   "execution_count": 47,
   "metadata": {},
   "outputs": [
    {
     "data": {
      "text/plain": [
       "0    1\n",
       "1    0\n",
       "2    0\n",
       "3    0\n",
       "4    0\n",
       "Name: wine_type, dtype: int64"
      ]
     },
     "execution_count": 47,
     "metadata": {},
     "output_type": "execute_result"
    }
   ],
   "source": [
    "y.head()\n",
    "# Here 1 represents red type and o represents white type of wines."
   ]
  },
  {
   "cell_type": "code",
   "execution_count": 48,
   "metadata": {},
   "outputs": [],
   "source": [
    "# splitting the dataset into training and testing.\n",
    "X_train, X_test, y_train, y_test = train_test_split(X, y, test_size = .25)"
   ]
  },
  {
   "cell_type": "code",
   "execution_count": 49,
   "metadata": {},
   "outputs": [
    {
     "data": {
      "text/plain": [
       "(4872, 11)"
      ]
     },
     "execution_count": 49,
     "metadata": {},
     "output_type": "execute_result"
    }
   ],
   "source": [
    "X_train.shape"
   ]
  },
  {
   "cell_type": "code",
   "execution_count": 50,
   "metadata": {},
   "outputs": [
    {
     "data": {
      "text/plain": [
       "(4872,)"
      ]
     },
     "execution_count": 50,
     "metadata": {},
     "output_type": "execute_result"
    }
   ],
   "source": [
    "y_train.shape"
   ]
  },
  {
   "cell_type": "code",
   "execution_count": 51,
   "metadata": {},
   "outputs": [],
   "source": [
    "# Scaling the features.\n",
    "ss = StandardScaler()\n",
    "X_train_s = ss.fit_transform(X_train)\n",
    "\n",
    "X_test_s = ss.transform(X_test)"
   ]
  },
  {
   "cell_type": "code",
   "execution_count": 52,
   "metadata": {},
   "outputs": [
    {
     "data": {
      "text/plain": [
       "array([[ 0.13816347, -0.73239668, -0.33296288, ...,  0.43988345,\n",
       "        -0.60328005, -0.49896465],\n",
       "       [-0.47660442,  0.49085894,  0.08289574, ...,  0.37743663,\n",
       "        -0.14078117,  2.43595618],\n",
       "       [-0.55345041, -0.36542   ,  0.08289574, ...,  0.00275576,\n",
       "        -0.14078117, -0.66667442],\n",
       "       ...,\n",
       "       [ 1.67508319, -0.36542   , -0.12503357, ..., -0.68415917,\n",
       "        -0.2729237 , -1.00209394],\n",
       "       [-0.09237449,  0.79667284, -0.19434334, ..., -0.62171236,\n",
       "        -0.33899497,  1.26198785],\n",
       "       [-0.86083435, -0.36542   , -0.33296288, ..., -0.05969105,\n",
       "        -0.14078117, -0.49896465]])"
      ]
     },
     "execution_count": 52,
     "metadata": {},
     "output_type": "execute_result"
    }
   ],
   "source": [
    "X_train_s"
   ]
  },
  {
   "cell_type": "code",
   "execution_count": 53,
   "metadata": {},
   "outputs": [
    {
     "data": {
      "text/plain": [
       "LogisticRegression(C=1.0, class_weight=None, dual=False, fit_intercept=True,\n",
       "          intercept_scaling=1, max_iter=1000, multi_class='warn',\n",
       "          n_jobs=None, penalty='l2', random_state=None, solver='lbfgs',\n",
       "          tol=0.0001, verbose=0, warm_start=False)"
      ]
     },
     "execution_count": 53,
     "metadata": {},
     "output_type": "execute_result"
    }
   ],
   "source": [
    "# using Logistic regression classifier .\n",
    "\n",
    "from sklearn.linear_model import LogisticRegression\n",
    "lr = LogisticRegression(max_iter = 1000, solver = 'lbfgs')\n",
    "lr.fit(X_train_s, y_train)"
   ]
  },
  {
   "cell_type": "code",
   "execution_count": 54,
   "metadata": {},
   "outputs": [],
   "source": [
    "\n",
    "y_pred = lr.predict(X_test_s)\n"
   ]
  },
  {
   "cell_type": "code",
   "execution_count": 55,
   "metadata": {},
   "outputs": [],
   "source": [
    "from sklearn.metrics import classification_report\n",
    "from sklearn.metrics import confusion_matrix\n",
    "from sklearn.metrics import accuracy_score\n",
    "from sklearn.metrics import roc_auc_score"
   ]
  },
  {
   "cell_type": "code",
   "execution_count": 56,
   "metadata": {},
   "outputs": [
    {
     "name": "stdout",
     "output_type": "stream",
     "text": [
      "Accuracy:  0.9926153846153846\n"
     ]
    }
   ],
   "source": [
    "print(\"Accuracy: \" , accuracy_score(y_test,y_pred))\n"
   ]
  },
  {
   "cell_type": "code",
   "execution_count": 57,
   "metadata": {},
   "outputs": [
    {
     "data": {
      "text/plain": [
       "array([[1221,    4],\n",
       "       [   8,  392]])"
      ]
     },
     "execution_count": 57,
     "metadata": {},
     "output_type": "execute_result"
    }
   ],
   "source": [
    "confusion_matrix(y_test, y_pred)"
   ]
  },
  {
   "cell_type": "code",
   "execution_count": 58,
   "metadata": {},
   "outputs": [
    {
     "name": "stdout",
     "output_type": "stream",
     "text": [
      "              precision    recall  f1-score   support\n",
      "\n",
      "           0       0.99      1.00      1.00      1225\n",
      "           1       0.99      0.98      0.98       400\n",
      "\n",
      "   micro avg       0.99      0.99      0.99      1625\n",
      "   macro avg       0.99      0.99      0.99      1625\n",
      "weighted avg       0.99      0.99      0.99      1625\n",
      "\n"
     ]
    }
   ],
   "source": [
    "print(classification_report(y_test,y_pred),end =\"\\n\")"
   ]
  },
  {
   "cell_type": "code",
   "execution_count": 62,
   "metadata": {},
   "outputs": [],
   "source": [
    "from sklearn.metrics import roc_curve\n",
    "def my_plot_roc_curve (y_true, y_prob):\n",
    "    #\n",
    "    # Function to plot the ROC curve by computing fpr and tpr as well as save the plot to file\n",
    "    # Args:\n",
    "    #   y_true: array of y true label\n",
    "    #   y_prob: the output of y probability prediction (outcome for predict_proba() function)\n",
    "    #   filename: the name of the file to be saved\n",
    "    #   dpi: the resolution of the figure\n",
    "    # Return:\n",
    "    #   None\n",
    "    #\n",
    "    fpr, tpr, threshold = roc_curve(y_true, y_prob[:, 1])\n",
    "    fig = plt.gcf()\n",
    "    fig.set_size_inches(10, 8)\n",
    "    plt.title(\"Receiver Operating Characteristic (ROC)\")\n",
    "    plt.plot(fpr, tpr, 'b')\n",
    "    plt.plot([0, 1], [0, 1],'r--')\n",
    "    plt.xlim([0, 1])\n",
    "    plt.ylim([0, 1])\n",
    "    plt.ylabel('True Positive Rate')\n",
    "    plt.xlabel('False Positive Rate')\n",
    "    plt.show()"
   ]
  },
  {
   "cell_type": "code",
   "execution_count": 65,
   "metadata": {},
   "outputs": [
    {
     "name": "stdout",
     "output_type": "stream",
     "text": [
      "roc-auc score: 0.994573469387755\n"
     ]
    }
   ],
   "source": [
    "test_labels = lr.predict_proba(np.array(X_test_s))[:,1]\n",
    "\n",
    "# Compute Area Under the Receiver Operating Characteristic Curve (ROC AUC) from prediction scores\n",
    "lr_roc_auc = roc_auc_score(y_test, test_labels , average = 'macro')\n",
    "print(\"roc-auc score:\", lr_roc_auc)\n"
   ]
  },
  {
   "cell_type": "code",
   "execution_count": 66,
   "metadata": {},
   "outputs": [
    {
     "name": "stdout",
     "output_type": "stream",
     "text": [
      "Accuracy:  0.9950769230769231\n",
      "\n",
      "              precision    recall  f1-score   support\n",
      "\n",
      "           0       1.00      1.00      1.00      1225\n",
      "           1       0.99      0.99      0.99       400\n",
      "\n",
      "   micro avg       1.00      1.00      1.00      1625\n",
      "   macro avg       0.99      0.99      0.99      1625\n",
      "weighted avg       1.00      1.00      1.00      1625\n",
      "\n"
     ]
    }
   ],
   "source": [
    "# Trying ensemble methods.\n",
    "from sklearn.ensemble import RandomForestClassifier\n",
    "rf  = RandomForestClassifier(n_estimators=500)\n",
    "rf.fit(X_train_s,y_train)\n",
    "y_pred = rf.predict(X_test_s)\n",
    "print(\"Accuracy: \",accuracy_score(y_test, y_pred))\n",
    "print()\n",
    "print(classification_report(y_test, y_pred),end = \"\\n\")"
   ]
  },
  {
   "cell_type": "markdown",
   "metadata": {},
   "source": [
    "# Trying neural network\n"
   ]
  },
  {
   "cell_type": "code",
   "execution_count": 67,
   "metadata": {},
   "outputs": [
    {
     "name": "stderr",
     "output_type": "stream",
     "text": [
      "Using TensorFlow backend.\n"
     ]
    },
    {
     "name": "stdout",
     "output_type": "stream",
     "text": [
      "WARNING:tensorflow:From /home/dhiraj/anaconda3/lib/python3.7/site-packages/tensorflow/python/framework/op_def_library.py:263: colocate_with (from tensorflow.python.framework.ops) is deprecated and will be removed in a future version.\n",
      "Instructions for updating:\n",
      "Colocations handled automatically by placer.\n"
     ]
    }
   ],
   "source": [
    "from keras.models import Sequential\n",
    "from keras.layers import Dense\n",
    "\n",
    "dnn_model = Sequential()\n",
    "dnn_model.add(Dense(14, activation='relu', input_shape=(11,)))\n",
    "dnn_model.add(Dense(14, activation='relu'))\n",
    "dnn_model.add(Dense(14, activation='relu'))\n",
    "dnn_model.add(Dense(1, activation='sigmoid'))\n",
    "\n",
    "dnn_model.compile(loss='binary_crossentropy', optimizer='adam', metrics=['accuracy'])"
   ]
  },
  {
   "cell_type": "code",
   "execution_count": 68,
   "metadata": {},
   "outputs": [
    {
     "name": "stdout",
     "output_type": "stream",
     "text": [
      "WARNING:tensorflow:From /home/dhiraj/anaconda3/lib/python3.7/site-packages/tensorflow/python/ops/math_ops.py:3066: to_int32 (from tensorflow.python.ops.math_ops) is deprecated and will be removed in a future version.\n",
      "Instructions for updating:\n",
      "Use tf.cast instead.\n",
      "Train on 4384 samples, validate on 488 samples\n",
      "Epoch 1/100\n",
      " - 1s - loss: 0.1791 - acc: 0.9398 - val_loss: 0.0366 - val_acc: 0.9939\n",
      "Epoch 2/100\n",
      " - 0s - loss: 0.0335 - acc: 0.9938 - val_loss: 0.0449 - val_acc: 0.9898\n",
      "Epoch 3/100\n",
      " - 0s - loss: 0.0283 - acc: 0.9945 - val_loss: 0.0314 - val_acc: 0.9959\n",
      "Epoch 4/100\n",
      " - 0s - loss: 0.0246 - acc: 0.9945 - val_loss: 0.0337 - val_acc: 0.9959\n",
      "Epoch 5/100\n",
      " - 0s - loss: 0.0225 - acc: 0.9950 - val_loss: 0.0305 - val_acc: 0.9959\n",
      "Epoch 6/100\n",
      " - 0s - loss: 0.0194 - acc: 0.9954 - val_loss: 0.0292 - val_acc: 0.9959\n",
      "Epoch 7/100\n",
      " - 0s - loss: 0.0170 - acc: 0.9961 - val_loss: 0.0308 - val_acc: 0.9959\n",
      "Epoch 8/100\n",
      " - 0s - loss: 0.0148 - acc: 0.9966 - val_loss: 0.0328 - val_acc: 0.9959\n",
      "Epoch 9/100\n",
      " - 0s - loss: 0.0134 - acc: 0.9966 - val_loss: 0.0349 - val_acc: 0.9939\n",
      "Epoch 10/100\n",
      " - 0s - loss: 0.0122 - acc: 0.9968 - val_loss: 0.0326 - val_acc: 0.9959\n",
      "Epoch 11/100\n",
      " - 0s - loss: 0.0107 - acc: 0.9973 - val_loss: 0.0353 - val_acc: 0.9959\n",
      "Epoch 12/100\n",
      " - 0s - loss: 0.0094 - acc: 0.9977 - val_loss: 0.0334 - val_acc: 0.9959\n",
      "Epoch 13/100\n",
      " - 0s - loss: 0.0082 - acc: 0.9975 - val_loss: 0.0482 - val_acc: 0.9939\n",
      "Epoch 14/100\n",
      " - 0s - loss: 0.0075 - acc: 0.9968 - val_loss: 0.0389 - val_acc: 0.9939\n",
      "Epoch 15/100\n",
      " - 0s - loss: 0.0058 - acc: 0.9979 - val_loss: 0.0335 - val_acc: 0.9959\n",
      "Epoch 16/100\n",
      " - 0s - loss: 0.0050 - acc: 0.9979 - val_loss: 0.0516 - val_acc: 0.9918\n",
      "Epoch 17/100\n",
      " - 0s - loss: 0.0044 - acc: 0.9982 - val_loss: 0.0385 - val_acc: 0.9939\n",
      "Epoch 18/100\n",
      " - 0s - loss: 0.0033 - acc: 0.9984 - val_loss: 0.0406 - val_acc: 0.9939\n",
      "Epoch 19/100\n",
      " - 0s - loss: 0.0026 - acc: 0.9991 - val_loss: 0.0527 - val_acc: 0.9918\n",
      "Epoch 20/100\n",
      " - 0s - loss: 0.0029 - acc: 0.9986 - val_loss: 0.0454 - val_acc: 0.9939\n",
      "Epoch 21/100\n",
      " - 0s - loss: 0.0032 - acc: 0.9989 - val_loss: 0.0481 - val_acc: 0.9939\n",
      "Epoch 22/100\n",
      " - 0s - loss: 0.0013 - acc: 0.9998 - val_loss: 0.0503 - val_acc: 0.9918\n",
      "Epoch 23/100\n",
      " - 0s - loss: 9.6714e-04 - acc: 1.0000 - val_loss: 0.0464 - val_acc: 0.9939\n",
      "Epoch 24/100\n",
      " - 0s - loss: 0.0013 - acc: 0.9998 - val_loss: 0.0526 - val_acc: 0.9918\n",
      "Epoch 25/100\n",
      " - 0s - loss: 7.4438e-04 - acc: 1.0000 - val_loss: 0.0448 - val_acc: 0.9959\n",
      "Epoch 26/100\n",
      " - 0s - loss: 0.0010 - acc: 0.9998 - val_loss: 0.0484 - val_acc: 0.9939\n",
      "Epoch 27/100\n",
      " - 0s - loss: 4.7985e-04 - acc: 1.0000 - val_loss: 0.0506 - val_acc: 0.9939\n",
      "Epoch 28/100\n",
      " - 0s - loss: 3.8616e-04 - acc: 1.0000 - val_loss: 0.0481 - val_acc: 0.9918\n",
      "Epoch 29/100\n",
      " - 0s - loss: 2.7559e-04 - acc: 1.0000 - val_loss: 0.0528 - val_acc: 0.9918\n",
      "Epoch 30/100\n",
      " - 0s - loss: 2.5261e-04 - acc: 1.0000 - val_loss: 0.0531 - val_acc: 0.9918\n",
      "Epoch 31/100\n",
      " - 0s - loss: 1.5903e-04 - acc: 1.0000 - val_loss: 0.0503 - val_acc: 0.9939\n",
      "Epoch 32/100\n",
      " - 0s - loss: 0.0013 - acc: 0.9998 - val_loss: 0.0465 - val_acc: 0.9959\n",
      "Epoch 33/100\n",
      " - 0s - loss: 0.0028 - acc: 0.9986 - val_loss: 0.0535 - val_acc: 0.9898\n",
      "Epoch 34/100\n",
      " - 0s - loss: 8.7033e-04 - acc: 0.9998 - val_loss: 0.0559 - val_acc: 0.9898\n",
      "Epoch 35/100\n",
      " - 0s - loss: 2.0955e-04 - acc: 1.0000 - val_loss: 0.0555 - val_acc: 0.9898\n",
      "Epoch 36/100\n",
      " - 0s - loss: 1.2137e-04 - acc: 1.0000 - val_loss: 0.0538 - val_acc: 0.9898\n",
      "Epoch 37/100\n",
      " - 0s - loss: 1.0061e-04 - acc: 1.0000 - val_loss: 0.0532 - val_acc: 0.9898\n",
      "Epoch 38/100\n",
      " - 0s - loss: 8.6997e-05 - acc: 1.0000 - val_loss: 0.0529 - val_acc: 0.9898\n",
      "Epoch 39/100\n",
      " - 0s - loss: 7.3105e-05 - acc: 1.0000 - val_loss: 0.0529 - val_acc: 0.9898\n",
      "Epoch 40/100\n",
      " - 0s - loss: 6.2140e-05 - acc: 1.0000 - val_loss: 0.0528 - val_acc: 0.9898\n",
      "Epoch 41/100\n",
      " - 0s - loss: 5.0421e-05 - acc: 1.0000 - val_loss: 0.0514 - val_acc: 0.9898\n",
      "Epoch 42/100\n",
      " - 0s - loss: 4.3753e-05 - acc: 1.0000 - val_loss: 0.0540 - val_acc: 0.9898\n",
      "Epoch 43/100\n",
      " - 0s - loss: 4.1672e-05 - acc: 1.0000 - val_loss: 0.0565 - val_acc: 0.9898\n",
      "Epoch 44/100\n",
      " - 0s - loss: 3.8486e-05 - acc: 1.0000 - val_loss: 0.0520 - val_acc: 0.9898\n",
      "Epoch 45/100\n",
      " - 0s - loss: 2.1449e-05 - acc: 1.0000 - val_loss: 0.0526 - val_acc: 0.9898\n",
      "Epoch 46/100\n",
      " - 0s - loss: 1.7778e-05 - acc: 1.0000 - val_loss: 0.0482 - val_acc: 0.9898\n",
      "Epoch 47/100\n",
      " - 0s - loss: 0.0050 - acc: 0.9984 - val_loss: 0.0652 - val_acc: 0.9918\n",
      "Epoch 48/100\n",
      " - 0s - loss: 0.0015 - acc: 0.9991 - val_loss: 0.0612 - val_acc: 0.9939\n",
      "Epoch 49/100\n",
      " - 0s - loss: 4.4032e-05 - acc: 1.0000 - val_loss: 0.0609 - val_acc: 0.9939\n",
      "Epoch 50/100\n",
      " - 0s - loss: 3.6372e-05 - acc: 1.0000 - val_loss: 0.0604 - val_acc: 0.9939\n",
      "Epoch 51/100\n",
      " - 0s - loss: 3.1723e-05 - acc: 1.0000 - val_loss: 0.0599 - val_acc: 0.9939\n",
      "Epoch 52/100\n",
      " - 0s - loss: 2.8432e-05 - acc: 1.0000 - val_loss: 0.0594 - val_acc: 0.9939\n",
      "Epoch 53/100\n",
      " - 0s - loss: 2.4331e-05 - acc: 1.0000 - val_loss: 0.0587 - val_acc: 0.9939\n",
      "Epoch 54/100\n",
      " - 0s - loss: 2.2271e-05 - acc: 1.0000 - val_loss: 0.0580 - val_acc: 0.9939\n",
      "Epoch 55/100\n",
      " - 0s - loss: 1.9190e-05 - acc: 1.0000 - val_loss: 0.0579 - val_acc: 0.9939\n",
      "Epoch 56/100\n",
      " - 0s - loss: 1.6772e-05 - acc: 1.0000 - val_loss: 0.0573 - val_acc: 0.9939\n",
      "Epoch 57/100\n",
      " - 0s - loss: 1.4963e-05 - acc: 1.0000 - val_loss: 0.0571 - val_acc: 0.9939\n",
      "Epoch 58/100\n",
      " - 0s - loss: 1.2237e-05 - acc: 1.0000 - val_loss: 0.0570 - val_acc: 0.9939\n",
      "Epoch 59/100\n",
      " - 0s - loss: 1.0322e-05 - acc: 1.0000 - val_loss: 0.0566 - val_acc: 0.9939\n",
      "Epoch 60/100\n",
      " - 0s - loss: 1.4718e-05 - acc: 1.0000 - val_loss: 0.0580 - val_acc: 0.9939\n",
      "Epoch 61/100\n",
      " - 0s - loss: 1.7164e-05 - acc: 1.0000 - val_loss: 0.0560 - val_acc: 0.9918\n",
      "Epoch 62/100\n",
      " - 0s - loss: 7.5664e-04 - acc: 0.9998 - val_loss: 0.0613 - val_acc: 0.9898\n",
      "Epoch 63/100\n",
      " - 0s - loss: 0.0016 - acc: 0.9993 - val_loss: 0.0630 - val_acc: 0.9918\n",
      "Epoch 64/100\n",
      " - 0s - loss: 3.0248e-05 - acc: 1.0000 - val_loss: 0.0511 - val_acc: 0.9918\n",
      "Epoch 65/100\n",
      " - 0s - loss: 2.0754e-05 - acc: 1.0000 - val_loss: 0.0584 - val_acc: 0.9918\n",
      "Epoch 66/100\n",
      " - 0s - loss: 1.2812e-05 - acc: 1.0000 - val_loss: 0.0567 - val_acc: 0.9918\n",
      "Epoch 67/100\n",
      " - 0s - loss: 1.0557e-05 - acc: 1.0000 - val_loss: 0.0554 - val_acc: 0.9918\n",
      "Epoch 68/100\n",
      " - 0s - loss: 9.2531e-06 - acc: 1.0000 - val_loss: 0.0553 - val_acc: 0.9918\n",
      "Epoch 69/100\n",
      " - 0s - loss: 8.0924e-06 - acc: 1.0000 - val_loss: 0.0544 - val_acc: 0.9918\n",
      "Epoch 70/100\n",
      " - 0s - loss: 7.2374e-06 - acc: 1.0000 - val_loss: 0.0552 - val_acc: 0.9918\n",
      "Epoch 71/100\n",
      " - 0s - loss: 6.1643e-06 - acc: 1.0000 - val_loss: 0.0534 - val_acc: 0.9918\n",
      "Epoch 72/100\n",
      " - 0s - loss: 5.5471e-06 - acc: 1.0000 - val_loss: 0.0540 - val_acc: 0.9918\n",
      "Epoch 73/100\n",
      " - 0s - loss: 4.7940e-06 - acc: 1.0000 - val_loss: 0.0543 - val_acc: 0.9918\n",
      "Epoch 74/100\n",
      " - 0s - loss: 4.1633e-06 - acc: 1.0000 - val_loss: 0.0511 - val_acc: 0.9918\n",
      "Epoch 75/100\n",
      " - 0s - loss: 3.6094e-06 - acc: 1.0000 - val_loss: 0.0520 - val_acc: 0.9918\n",
      "Epoch 76/100\n",
      " - 0s - loss: 3.1414e-06 - acc: 1.0000 - val_loss: 0.0502 - val_acc: 0.9939\n",
      "Epoch 77/100\n",
      " - 0s - loss: 2.6609e-06 - acc: 1.0000 - val_loss: 0.0505 - val_acc: 0.9939\n",
      "Epoch 78/100\n",
      " - 0s - loss: 2.3007e-06 - acc: 1.0000 - val_loss: 0.0510 - val_acc: 0.9939\n",
      "Epoch 79/100\n",
      " - 0s - loss: 2.2115e-06 - acc: 1.0000 - val_loss: 0.0576 - val_acc: 0.9918\n",
      "Epoch 80/100\n",
      " - 0s - loss: 5.5894e-05 - acc: 1.0000 - val_loss: 0.1208 - val_acc: 0.9898\n",
      "Epoch 81/100\n",
      " - 0s - loss: 0.0059 - acc: 0.9984 - val_loss: 0.0391 - val_acc: 0.9939\n",
      "Epoch 82/100\n",
      " - 0s - loss: 6.0108e-04 - acc: 0.9998 - val_loss: 0.0583 - val_acc: 0.9939\n",
      "Epoch 83/100\n",
      " - 0s - loss: 7.7485e-06 - acc: 1.0000 - val_loss: 0.0576 - val_acc: 0.9939\n",
      "Epoch 84/100\n",
      " - 0s - loss: 6.1988e-06 - acc: 1.0000 - val_loss: 0.0569 - val_acc: 0.9939\n",
      "Epoch 85/100\n",
      " - 0s - loss: 5.2681e-06 - acc: 1.0000 - val_loss: 0.0564 - val_acc: 0.9939\n",
      "Epoch 86/100\n",
      " - 0s - loss: 4.5523e-06 - acc: 1.0000 - val_loss: 0.0559 - val_acc: 0.9939\n",
      "Epoch 87/100\n",
      " - 0s - loss: 3.9796e-06 - acc: 1.0000 - val_loss: 0.0554 - val_acc: 0.9939\n",
      "Epoch 88/100\n",
      " - 0s - loss: 3.5601e-06 - acc: 1.0000 - val_loss: 0.0551 - val_acc: 0.9939\n",
      "Epoch 89/100\n",
      " - 0s - loss: 3.2217e-06 - acc: 1.0000 - val_loss: 0.0547 - val_acc: 0.9959\n",
      "Epoch 90/100\n",
      " - 0s - loss: 2.9155e-06 - acc: 1.0000 - val_loss: 0.0544 - val_acc: 0.9959\n"
     ]
    },
    {
     "name": "stdout",
     "output_type": "stream",
     "text": [
      "Epoch 91/100\n",
      " - 0s - loss: 2.6753e-06 - acc: 1.0000 - val_loss: 0.0546 - val_acc: 0.9939\n",
      "Epoch 92/100\n",
      " - 0s - loss: 2.4396e-06 - acc: 1.0000 - val_loss: 0.0547 - val_acc: 0.9939\n",
      "Epoch 93/100\n",
      " - 0s - loss: 2.2114e-06 - acc: 1.0000 - val_loss: 0.0549 - val_acc: 0.9918\n",
      "Epoch 94/100\n",
      " - 0s - loss: 1.9666e-06 - acc: 1.0000 - val_loss: 0.0549 - val_acc: 0.9939\n",
      "Epoch 95/100\n",
      " - 0s - loss: 1.7513e-06 - acc: 1.0000 - val_loss: 0.0553 - val_acc: 0.9918\n",
      "Epoch 96/100\n",
      " - 0s - loss: 1.5525e-06 - acc: 1.0000 - val_loss: 0.0560 - val_acc: 0.9918\n",
      "Epoch 97/100\n",
      " - 0s - loss: 1.3584e-06 - acc: 1.0000 - val_loss: 0.0563 - val_acc: 0.9918\n",
      "Epoch 98/100\n",
      " - 0s - loss: 1.2236e-06 - acc: 1.0000 - val_loss: 0.0567 - val_acc: 0.9918\n",
      "Epoch 99/100\n",
      " - 0s - loss: 1.0264e-06 - acc: 1.0000 - val_loss: 0.0555 - val_acc: 0.9939\n",
      "Epoch 100/100\n",
      " - 0s - loss: 8.6391e-07 - acc: 1.0000 - val_loss: 0.0554 - val_acc: 0.9939\n"
     ]
    }
   ],
   "source": [
    "history = dnn_model.fit(X_train_s, y_train, epochs=100, batch_size=8, \n",
    "                            shuffle=True, validation_split=0.1, verbose=2)"
   ]
  },
  {
   "cell_type": "markdown",
   "metadata": {},
   "source": [
    "As we can see the accuracy in this case is greater with neural networks.\n"
   ]
  },
  {
   "cell_type": "code",
   "execution_count": 69,
   "metadata": {},
   "outputs": [
    {
     "data": {
      "image/png": "[encoded data removed]",
      "text/plain": [
       "<Figure size 720x288 with 2 Axes>"
      ]
     },
     "metadata": {
      "needs_background": "light"
     },
     "output_type": "display_data"
    }
   ],
   "source": [
    "# Evaluating the performanence of the model.\n",
    "f, (ax1, ax2) = plt.subplots(1, 2, figsize=(10, 4))\n",
    "t = f.suptitle('Deep Neural Net Performance', fontsize=12)\n",
    "f.subplots_adjust(top=0.85, wspace=0.3)\n",
    "\n",
    "epochs = list(range(1,101))\n",
    "ax1.plot(epochs, history.history['acc'], label='Train Accuracy')\n",
    "ax1.plot(epochs, history.history['val_acc'], label='Validation Accuracy')\n",
    "ax1.set_xticks(epochs)\n",
    "ax1.set_ylabel('Accuracy Value')\n",
    "ax1.set_xlabel('Epoch')\n",
    "ax1.set_title('Accuracy')\n",
    "l1 = ax1.legend(loc=\"best\")\n",
    "\n",
    "ax2.plot(epochs, history.history['loss'], label='Train Loss')\n",
    "ax2.plot(epochs, history.history['val_loss'], label='Validation Loss')\n",
    "ax2.set_xticks(epochs)\n",
    "ax2.set_ylabel('Loss Value')\n",
    "ax2.set_xlabel('Epoch')\n",
    "ax2.set_title('Loss')\n",
    "l2 = ax2.legend(loc=\"best\")"
   ]
  },
  {
   "cell_type": "code",
   "execution_count": 70,
   "metadata": {},
   "outputs": [
    {
     "name": "stdout",
     "output_type": "stream",
     "text": [
      "Accuracy:  0.9938461538461538\n",
      "              precision    recall  f1-score   support\n",
      "\n",
      "           0       1.00      1.00      1.00      1225\n",
      "           1       0.99      0.99      0.99       400\n",
      "\n",
      "   micro avg       0.99      0.99      0.99      1625\n",
      "   macro avg       0.99      0.99      0.99      1625\n",
      "weighted avg       0.99      0.99      0.99      1625\n",
      "\n"
     ]
    }
   ],
   "source": [
    "dnn_ypred = dnn_model.predict_classes(X_test_s)\n",
    "print(\"Accuracy: \",accuracy_score(y_test,dnn_ypred))\n",
    "print(classification_report(y_test, dnn_ypred),end = \"\\n\")"
   ]
  },
  {
   "cell_type": "code",
   "execution_count": null,
   "metadata": {},
   "outputs": [],
   "source": [
    "confusion_matrix(y_test, dnn_ypred)"
   ]
  },
  {
   "cell_type": "markdown",
   "metadata": {},
   "source": [
    "    We saw that accuracies using all the models is comparable so any model can be used , logistic regression is preferred in this case because it is simple to implement and fits this data good."
   ]
  },
  {
   "cell_type": "markdown",
   "metadata": {},
   "source": [
    "# Plotting Decision Boundary surface"
   ]
  },
  {
   "cell_type": "code",
   "execution_count": 71,
   "metadata": {},
   "outputs": [],
   "source": [
    "def plot_model_decision_surface(clf, train_features, train_labels,\n",
    "                                plot_step=0.02, cmap=plt.cm.RdYlBu,\n",
    "                                markers=None, alphas=None, colors=None):\n",
    "    \n",
    "    if train_features.shape[1] != 2:\n",
    "        raise ValueError(\"X_train should have exactly 2 columnns!\")\n",
    "    \n",
    "    x_min, x_max = train_features[:, 0].min() - plot_step, train_features[:, 0].max() + plot_step\n",
    "    y_min, y_max = train_features[:, 1].min() - plot_step, train_features[:, 1].max() + plot_step\n",
    "    xx, yy = np.meshgrid(np.arange(x_min, x_max, plot_step),\n",
    "                         np.arange(y_min, y_max, plot_step))\n",
    "\n",
    "    clf_est = clone(clf)\n",
    "    clf_est.fit(train_features,train_labels)\n",
    "    if hasattr(clf_est, 'predict_proba'):\n",
    "        Z = clf_est.predict_proba(np.c_[xx.ravel(), yy.ravel()])[:,1]\n",
    "    else:\n",
    "        Z = clf_est.predict(np.c_[xx.ravel(), yy.ravel()])    \n",
    "    Z = Z.reshape(xx.shape)\n",
    "    cs = plt.contourf(xx, yy, Z, cmap=cmap)\n",
    "    \n",
    "    le = LabelEncoder()\n",
    "    y_enc = le.fit_transform(train_labels)\n",
    "    n_classes = len(le.classes_)\n",
    "    plot_colors = ''.join(colors) if colors else [None] * n_classes\n",
    "    label_names = le.classes_\n",
    "    markers = markers if markers else [None] * n_classes\n",
    "    alphas = alphas if alphas else [None] * n_classes\n",
    "    for i, color in zip(range(n_classes), plot_colors):\n",
    "        idx = np.where(y_enc == i)\n",
    "        plt.scatter(train_features[idx, 0], train_features[idx, 1], c=color,\n",
    "                    label=label_names[i], cmap=cmap, edgecolors='black', \n",
    "                    marker=markers[i], alpha=alphas[i])\n",
    "    plt.legend()\n",
    "    plt.show()\n"
   ]
  },
  {
   "cell_type": "markdown",
   "metadata": {},
   "source": [
    " # Predicting Wine Quality"
   ]
  },
  {
   "cell_type": "markdown",
   "metadata": {},
   "source": [
    "The prediction will be among three classes [ 'low ' ,'Medium' , 'High' ].We have considered these three classes because of the less number of some of the quatities. we have merged them into these qualities."
   ]
  },
  {
   "cell_type": "code",
   "execution_count": 72,
   "metadata": {},
   "outputs": [
    {
     "name": "stdout",
     "output_type": "stream",
     "text": [
      "Counter({'medium': 2736, 'low': 1680, 'high': 131}) Counter({'medium': 1179, 'low': 704, 'high': 67})\n",
      "Features: ['fixed acidity', 'volatile acidity', 'citric acid', 'residual sugar', 'chlorides', 'free sulfur dioxide', 'total sulfur dioxide', 'density', 'pH', 'sulphates', 'alcohol']\n"
     ]
    }
   ],
   "source": [
    "features = wines.iloc[:,:-3]\n",
    "class_labels = np.array(wines['quality_label'])\n",
    "label_names = ['low', 'medium', 'high']\n",
    "feature_names = list(features.columns)\n",
    "X_train, X_test, y_train, y_test = train_test_split(features, class_labels, \n",
    "                                                                    test_size=0.3, random_state=42)\n",
    "\n",
    "print(Counter(y_train), Counter(y_test))\n",
    "print('Features:', feature_names)"
   ]
  },
  {
   "cell_type": "code",
   "execution_count": 73,
   "metadata": {},
   "outputs": [],
   "source": [
    "# Define the scaler \n",
    "ss = StandardScaler().fit(X_train)\n",
    "\n",
    "# Scale the train set\n",
    "train_SX = ss.transform(X_train)\n",
    "\n",
    "# Scale the test set\n",
    "test_SX = ss.transform(X_test)"
   ]
  },
  {
   "cell_type": "code",
   "execution_count": 74,
   "metadata": {},
   "outputs": [],
   "source": [
    "# Using Decision Tree Classifier.\n",
    "from sklearn.tree import DecisionTreeClassifier\n",
    "\n",
    "dt = DecisionTreeClassifier()\n",
    "dt.fit(train_SX, y_train)\n",
    "\n",
    "dt_predictions = dt.predict(test_SX)\n"
   ]
  },
  {
   "cell_type": "code",
   "execution_count": 75,
   "metadata": {},
   "outputs": [
    {
     "name": "stdout",
     "output_type": "stream",
     "text": [
      "              precision    recall  f1-score   support\n",
      "\n",
      "        high       0.28      0.33      0.30        67\n",
      "         low       0.67      0.68      0.67       704\n",
      "      medium       0.78      0.76      0.77      1179\n",
      "\n",
      "   micro avg       0.72      0.72      0.72      1950\n",
      "   macro avg       0.57      0.59      0.58      1950\n",
      "weighted avg       0.72      0.72      0.72      1950\n",
      "\n"
     ]
    }
   ],
   "source": [
    "print(classification_report(y_test,dt_predictions))"
   ]
  },
  {
   "cell_type": "code",
   "execution_count": 76,
   "metadata": {},
   "outputs": [
    {
     "name": "stdout",
     "output_type": "stream",
     "text": [
      "Accuracy:  0.7164102564102565\n"
     ]
    }
   ],
   "source": [
    "print(\"Accuracy: \",accuracy_score(y_test,dt_predictions))"
   ]
  },
  {
   "cell_type": "code",
   "execution_count": 77,
   "metadata": {},
   "outputs": [
    {
     "data": {
      "text/plain": [
       "array([[ 22,   4,  41],\n",
       "       [  7, 478, 219],\n",
       "       [ 50, 232, 897]])"
      ]
     },
     "execution_count": 77,
     "metadata": {},
     "output_type": "execute_result"
    }
   ],
   "source": [
    "confusion_matrix(y_test,dt_predictions)"
   ]
  },
  {
   "cell_type": "markdown",
   "metadata": {},
   "source": [
    "we can see the recall for the high quality\n",
    "wine samples is pretty bad since a lot of them have been misclassified into medium and low quality ratings.\n",
    "This is kind of expected since we do not have a lot of training samples for high quality wine if you remember\n",
    "our training sample sizes from earlier"
   ]
  },
  {
   "cell_type": "code",
   "execution_count": 78,
   "metadata": {},
   "outputs": [
    {
     "data": {
      "image/png": "[encoded data removed]",
      "text/plain": [
       "<Figure size 432x288 with 1 Axes>"
      ]
     },
     "metadata": {
      "needs_background": "light"
     },
     "output_type": "display_data"
    }
   ],
   "source": [
    "# Viewing Feature Importances of Decision Trees.\n",
    "dt_feature_importances = dt.feature_importances_\n",
    "dt_feature_names, dt_feature_scores = zip(*sorted(zip(feature_names, dt_feature_importances), \n",
    "                                                          key=lambda x: x[1]))\n",
    "y_position = list(range(len(dt_feature_names)))\n",
    "plt.barh(y_position, dt_feature_scores, height=0.9, align='center')\n",
    "plt.yticks(y_position , dt_feature_names)\n",
    "plt.xlabel('Relative Importance Score')\n",
    "plt.ylabel('Feature')\n",
    "t = plt.title('Feature Importances for Decision Tree')"
   ]
  },
  {
   "cell_type": "markdown",
   "metadata": {},
   "source": [
    "Alcohol and volatile acidity occupy the top two ranks and total sulfur dioxide\n",
    "seems to be one of the most important features for classifying both wine type and quality"
   ]
  },
  {
   "cell_type": "markdown",
   "metadata": {},
   "source": [
    "The class variable is what we are trying to predict, i.e. wine quality being low, medium, or high and value\n",
    "determines the total number of samples at each class present in the current decision node at each instance.\n",
    "The gini parameter is basically the criterion which is used to determine and measure the quality of the split\n",
    "at each decision node. Best splits can be determined by metrics like gini impurity\\gini index or information\n",
    "gain."
   ]
  },
  {
   "cell_type": "code",
   "execution_count": 79,
   "metadata": {},
   "outputs": [
    {
     "name": "stdout",
     "output_type": "stream",
     "text": [
      "{'max_features': 'auto', 'n_estimators': 500}\n"
     ]
    }
   ],
   "source": [
    "# Using Ensemble Method \n",
    "from sklearn.model_selection import GridSearchCV\n",
    "\n",
    "param_grid = {\n",
    "                'n_estimators': [100, 200, 300, 500], \n",
    "                'max_features': ['auto', None, 'log2']    \n",
    "              }\n",
    "\n",
    "clf = GridSearchCV(RandomForestClassifier(random_state=42), param_grid, cv=5,\n",
    "                       scoring='accuracy')\n",
    "clf.fit(train_SX, y_train)\n",
    "print(clf.best_params_)"
   ]
  },
  {
   "cell_type": "code",
   "execution_count": 80,
   "metadata": {},
   "outputs": [],
   "source": [
    "rf = RandomForestClassifier(n_estimators=500, max_features='auto', random_state=42)\n",
    "rf.fit(train_SX, y_train)\n",
    "\n",
    "rf_predictions = rf.predict(test_SX)\n"
   ]
  },
  {
   "cell_type": "code",
   "execution_count": 81,
   "metadata": {},
   "outputs": [
    {
     "name": "stdout",
     "output_type": "stream",
     "text": [
      "Accuracy:  0.801025641025641\n"
     ]
    }
   ],
   "source": [
    "print(\"Accuracy: \",accuracy_score(y_test,rf_predictions))"
   ]
  },
  {
   "cell_type": "code",
   "execution_count": 82,
   "metadata": {},
   "outputs": [
    {
     "name": "stdout",
     "output_type": "stream",
     "text": [
      "              precision    recall  f1-score   support\n",
      "\n",
      "        high       0.83      0.30      0.44        67\n",
      "         low       0.77      0.73      0.75       704\n",
      "      medium       0.81      0.87      0.84      1179\n",
      "\n",
      "   micro avg       0.80      0.80      0.80      1950\n",
      "   macro avg       0.81      0.63      0.68      1950\n",
      "weighted avg       0.80      0.80      0.80      1950\n",
      "\n"
     ]
    }
   ],
   "source": [
    "print(classification_report(y_test,rf_predictions),end = \"\\n\")"
   ]
  },
  {
   "cell_type": "markdown",
   "metadata": {},
   "source": [
    "We obtained an accuracy of 80% which is better than Decision tree"
   ]
  },
  {
   "cell_type": "code",
   "execution_count": 83,
   "metadata": {},
   "outputs": [],
   "source": [
    "# Using Extra tree classifier.\n",
    "from sklearn.tree import ExtraTreeClassifier\n",
    "etc =  ExtraTreeClassifier()\n",
    "etc.fit(train_SX, y_train)\n",
    "\n",
    "etc_pred = etc.predict(test_SX)\n"
   ]
  },
  {
   "cell_type": "code",
   "execution_count": 84,
   "metadata": {},
   "outputs": [
    {
     "name": "stdout",
     "output_type": "stream",
     "text": [
      "Accuracy:  0.7235897435897436\n"
     ]
    }
   ],
   "source": [
    "print(\"Accuracy: \",accuracy_score(y_test,etc_pred))"
   ]
  },
  {
   "cell_type": "code",
   "execution_count": 85,
   "metadata": {},
   "outputs": [
    {
     "name": "stdout",
     "output_type": "stream",
     "text": [
      "              precision    recall  f1-score   support\n",
      "\n",
      "        high       0.44      0.36      0.39        67\n",
      "         low       0.67      0.65      0.66       704\n",
      "      medium       0.77      0.79      0.78      1179\n",
      "\n",
      "   micro avg       0.72      0.72      0.72      1950\n",
      "   macro avg       0.62      0.60      0.61      1950\n",
      "weighted avg       0.72      0.72      0.72      1950\n",
      "\n"
     ]
    }
   ],
   "source": [
    "print(classification_report(y_test,etc_pred),end = \"\\n\")"
   ]
  },
  {
   "cell_type": "markdown",
   "metadata": {},
   "source": [
    " Random Forest is much better than the tree models."
   ]
  },
  {
   "cell_type": "code",
   "execution_count": 86,
   "metadata": {},
   "outputs": [
    {
     "data": {
      "text/plain": [
       "XGBClassifier(base_score=0.5, booster='gbtree', colsample_bylevel=1,\n",
       "       colsample_bytree=1, gamma=0, learning_rate=0.1, max_delta_step=0,\n",
       "       max_depth=3, min_child_weight=1, missing=None, n_estimators=100,\n",
       "       n_jobs=1, nthread=None, objective='multi:softprob', random_state=0,\n",
       "       reg_alpha=0, reg_lambda=1, scale_pos_weight=1, seed=42, silent=True,\n",
       "       subsample=1)"
      ]
     },
     "execution_count": 86,
     "metadata": {},
     "output_type": "execute_result"
    }
   ],
   "source": [
    "# Using xgboost which is Xtreme boosting method.\n",
    "import xgboost as xgb\n",
    "xgb_model = xgb.XGBClassifier(seed=42)\n",
    "xgb_model.fit(train_SX, y_train)"
   ]
  },
  {
   "cell_type": "code",
   "execution_count": 87,
   "metadata": {},
   "outputs": [
    {
     "name": "stdout",
     "output_type": "stream",
     "text": [
      "Accuracy:  0.7410256410256411\n",
      "              precision    recall  f1-score   support\n",
      "\n",
      "        high       1.00      0.06      0.11        67\n",
      "         low       0.71      0.62      0.67       704\n",
      "      medium       0.75      0.85      0.80      1179\n",
      "\n",
      "   micro avg       0.74      0.74      0.74      1950\n",
      "   macro avg       0.82      0.51      0.53      1950\n",
      "weighted avg       0.75      0.74      0.73      1950\n",
      "\n"
     ]
    }
   ],
   "source": [
    "xgb_predictions = xgb_model.predict(test_SX)\n",
    "print(\"Accuracy: \",accuracy_score(y_test,xgb_predictions))\n",
    "print(classification_report(y_test,xgb_predictions),end = \"\\n\")"
   ]
  },
  {
   "cell_type": "markdown",
   "metadata": {},
   "source": [
    "XGboost also didn't performed very well than random forest model."
   ]
  },
  {
   "cell_type": "code",
   "execution_count": 90,
   "metadata": {},
   "outputs": [],
   "source": [
    "from sklearn.preprocessing import LabelEncoder\n",
    "from sklearn.base import clone\n",
    "from sklearn.preprocessing import label_binarize\n",
    "from scipy import interp\n",
    "from sklearn.metrics import auc\n",
    "def plot_model_roc_curve(clf, features, true_labels, label_encoder=None, class_names=None):\n",
    "    \n",
    "    ## Compute ROC curve and ROC area for each class\n",
    "    fpr = dict()\n",
    "    tpr = dict()\n",
    "    roc_auc = dict()\n",
    "    if hasattr(clf, 'classes_'):\n",
    "        class_labels = clf.classes_\n",
    "    elif label_encoder:\n",
    "        class_labels = label_encoder.classes_\n",
    "    elif class_names:\n",
    "        class_labels = class_names\n",
    "    else:\n",
    "        raise ValueError('Unable to derive prediction classes, please specify class_names!')\n",
    "    n_classes = len(class_labels)\n",
    "    y_test = label_binarize(true_labels, classes=class_labels)\n",
    "    if n_classes == 2:\n",
    "        if hasattr(clf, 'predict_proba'):\n",
    "            prob = clf.predict_proba(features)\n",
    "            y_score = prob[:, prob.shape[1]-1] \n",
    "        elif hasattr(clf, 'decision_function'):\n",
    "            prob = clf.decision_function(features)\n",
    "            y_score = prob[:, prob.shape[1]-1]\n",
    "        else:\n",
    "            raise AttributeError(\"Estimator doesn't have a probability or confidence scoring system!\")\n",
    "        \n",
    "        fpr, tpr, _ = roc_curve(y_test, y_score)      \n",
    "        roc_auc = auc(fpr, tpr)\n",
    "        plt.plot(fpr, tpr, label='ROC curve (area = {0:0.2f})'\n",
    "                                 ''.format(roc_auc),\n",
    "                 linewidth=2.5)\n",
    "        \n",
    "    elif n_classes > 2:\n",
    "        if hasattr(clf, 'predict_proba'):\n",
    "            y_score = clf.predict_proba(features)\n",
    "        elif hasattr(clf, 'decision_function'):\n",
    "            y_score = clf.decision_function(features)\n",
    "        else:\n",
    "            raise AttributeError(\"Estimator doesn't have a probability or confidence scoring system!\")\n",
    "\n",
    "        for i in range(n_classes):\n",
    "            fpr[i], tpr[i], _ = roc_curve(y_test[:, i], y_score[:, i])\n",
    "            roc_auc[i] = auc(fpr[i], tpr[i])\n",
    "\n",
    "        ## Compute micro-average ROC curve and ROC area\n",
    "        fpr[\"micro\"], tpr[\"micro\"], _ = roc_curve(y_test.ravel(), y_score.ravel())\n",
    "        roc_auc[\"micro\"] = auc(fpr[\"micro\"], tpr[\"micro\"])\n",
    "\n",
    "        ## Compute macro-average ROC curve and ROC area\n",
    "        # First aggregate all false positive rates\n",
    "        all_fpr = np.unique(np.concatenate([fpr[i] for i in range(n_classes)]))\n",
    "        # Then interpolate all ROC curves at this points\n",
    "        mean_tpr = np.zeros_like(all_fpr)\n",
    "        for i in range(n_classes):\n",
    "            mean_tpr += interp(all_fpr, fpr[i], tpr[i])\n",
    "        # Finally average it and compute AUC\n",
    "        mean_tpr /= n_classes\n",
    "        fpr[\"macro\"] = all_fpr\n",
    "        tpr[\"macro\"] = mean_tpr\n",
    "        roc_auc[\"macro\"] = auc(fpr[\"macro\"], tpr[\"macro\"])\n",
    "\n",
    "        ## Plot ROC curves\n",
    "        plt.figure(figsize=(6, 4))\n",
    "        plt.plot(fpr[\"micro\"], tpr[\"micro\"],\n",
    "                 label='micro-average ROC curve (area = {0:0.2f})'\n",
    "                       ''.format(roc_auc[\"micro\"]), linewidth=3)\n",
    "\n",
    "        plt.plot(fpr[\"macro\"], tpr[\"macro\"],\n",
    "                 label='macro-average ROC curve (area = {0:0.2f})'\n",
    "                       ''.format(roc_auc[\"macro\"]), linewidth=3)\n",
    "\n",
    "        for i, label in enumerate(class_labels):\n",
    "            plt.plot(fpr[i], tpr[i], label='ROC curve of class {0} (area = {1:0.2f})'\n",
    "                                           ''.format(label, roc_auc[i]), \n",
    "                     linewidth=2, linestyle=':')\n",
    "    else:\n",
    "        raise ValueError('Number of classes should be atleast 2 or more')\n",
    "        \n",
    "    plt.plot([0, 1], [0, 1], 'k--')\n",
    "    plt.xlim([0.0, 1.0])\n",
    "    plt.ylim([0.0, 1.05])\n",
    "    plt.xlabel('False Positive Rate')\n",
    "    plt.ylabel('True Positive Rate')\n",
    "    plt.title('Receiver Operating Characteristic (ROC) Curve')\n",
    "    plt.legend(loc=\"lower right\")\n",
    "    plt.show()\n",
    "\n",
    "\n"
   ]
  },
  {
   "cell_type": "markdown",
   "metadata": {},
   "source": [
    "Plotting a binary classifier’s ROC curve is easy, but what do you do when you are dealing with a\n",
    "multi-class classifier (3-class in our case)? There are several ways to do this. You would need to binarize the\n",
    "output. Once this operation is executed, you can plot one ROC curve per class label. Besides this, you can\n",
    "also follow two aggregation metrics for computing the average ROC measures. Micro-averaging involves\n",
    "plotting an ROC curve over the entire prediction space by considering each predicted element as a binary\n",
    "prediction. Hence equal weight is given to each prediction classification decision. Macro-averaging involves\n",
    "giving equal weight to each class label when averaging. Our model_evaluation_utils module has a nifty\n",
    "customizable function plot_model_roc_curve(...), which can help plot multi-class classifier ROC curves\n",
    "with both micro- and macro-averaging capabilities"
   ]
  },
  {
   "cell_type": "code",
   "execution_count": 91,
   "metadata": {},
   "outputs": [
    {
     "data": {
      "image/png": "[encoded data removed]",
      "text/plain": [
       "<Figure size 432x288 with 1 Axes>"
      ]
     },
     "metadata": {
      "needs_background": "light"
     },
     "output_type": "display_data"
    }
   ],
   "source": [
    "plot_model_roc_curve(rf, test_SX, y_test)"
   ]
  },
  {
   "cell_type": "markdown",
   "metadata": {},
   "source": [
    "In this we explored the various components of Explotary data analysis and Model building and Evaluating Parameters.\n",
    "In our Example the RandomForest Model performed better than the other bagging and boosting methods.\n",
    "The results are drawn and discussed in the notebook and these aspects are important for model performanence and analysis."
   ]
  }
 ],
 "metadata": {
  "kernelspec": {
   "display_name": "Python 3",
   "language": "python",
   "name": "python3"
  },
  "language_info": {
   "codemirror_mode": {
    "name": "ipython",
    "version": 3
   },
   "file_extension": ".py",
   "mimetype": "text/x-python",
   "name": "python",
   "nbconvert_exporter": "python",
   "pygments_lexer": "ipython3",
   "version": "3.7.2"
  }
 },
 "nbformat": 4,
 "nbformat_minor": 2
}
